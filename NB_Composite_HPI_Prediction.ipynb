{
  "nbformat": 4,
  "nbformat_minor": 0,
  "metadata": {
    "colab": {
      "provenance": []
    },
    "kernelspec": {
      "name": "python3",
      "display_name": "Python 3"
    },
    "language_info": {
      "name": "python"
    }
  },
  "cells": [
    {
      "cell_type": "markdown",
      "source": [
        "## CS715 Final Project"
      ],
      "metadata": {
        "id": "gbQw6VaTJiFD"
      }
    },
    {
      "cell_type": "code",
      "source": [
        "!pip install statsmodels==0.13.2\n",
        "\n",
        "import pandas as pd\n",
        "from pandas import datetime\n",
        "\n",
        "from statsmodels.graphics.tsaplots import plot_acf\n",
        "from statsmodels.graphics.tsaplots import plot_pacf\n",
        "from statsmodels.tsa.arima_process import ArmaProcess\n",
        "from statsmodels.tsa.arima.model import ARIMA\n",
        "from statsmodels.tsa.stattools import acf\n",
        "\n",
        "import matplotlib.pyplot as plt\n",
        "from matplotlib.dates import DateFormatter\n",
        "import matplotlib.dates as mdates\n",
        "\n",
        "from sklearn.metrics import mean_squared_error\n",
        "from math import sqrt\n",
        "import statsmodels.api as sm\n",
        "from statsmodels.tsa.stattools import adfuller\n",
        "import numpy as np"
      ],
      "metadata": {
        "colab": {
          "base_uri": "https://localhost:8080/"
        },
        "id": "lTnaxjw8JpYl",
        "outputId": "25fbaa13-9bf8-4dcc-e79b-8801e7372e88"
      },
      "execution_count": 1,
      "outputs": [
        {
          "output_type": "stream",
          "name": "stdout",
          "text": [
            "Looking in indexes: https://pypi.org/simple, https://us-python.pkg.dev/colab-wheels/public/simple/\n",
            "Requirement already satisfied: statsmodels==0.13.2 in /usr/local/lib/python3.8/dist-packages (0.13.2)\n",
            "Requirement already satisfied: scipy>=1.3 in /usr/local/lib/python3.8/dist-packages (from statsmodels==0.13.2) (1.7.3)\n",
            "Requirement already satisfied: packaging>=21.3 in /usr/local/lib/python3.8/dist-packages (from statsmodels==0.13.2) (21.3)\n",
            "Requirement already satisfied: patsy>=0.5.2 in /usr/local/lib/python3.8/dist-packages (from statsmodels==0.13.2) (0.5.3)\n",
            "Requirement already satisfied: pandas>=0.25 in /usr/local/lib/python3.8/dist-packages (from statsmodels==0.13.2) (1.3.5)\n",
            "Requirement already satisfied: numpy>=1.17 in /usr/local/lib/python3.8/dist-packages (from statsmodels==0.13.2) (1.21.6)\n",
            "Requirement already satisfied: pyparsing!=3.0.5,>=2.0.2 in /usr/local/lib/python3.8/dist-packages (from packaging>=21.3->statsmodels==0.13.2) (3.0.9)\n",
            "Requirement already satisfied: python-dateutil>=2.7.3 in /usr/local/lib/python3.8/dist-packages (from pandas>=0.25->statsmodels==0.13.2) (2.8.2)\n",
            "Requirement already satisfied: pytz>=2017.3 in /usr/local/lib/python3.8/dist-packages (from pandas>=0.25->statsmodels==0.13.2) (2022.6)\n",
            "Requirement already satisfied: six in /usr/local/lib/python3.8/dist-packages (from patsy>=0.5.2->statsmodels==0.13.2) (1.15.0)\n"
          ]
        },
        {
          "output_type": "stream",
          "name": "stderr",
          "text": [
            "<ipython-input-1-25b0e23c4649>:4: FutureWarning: The pandas.datetime class is deprecated and will be removed from pandas in a future version. Import from datetime module instead.\n",
            "  from pandas import datetime\n"
          ]
        }
      ]
    },
    {
      "cell_type": "code",
      "source": [
        "import pandas as pd\n",
        "from pandas import datetime\n",
        "\n",
        "from statsmodels.graphics.tsaplots import plot_acf\n",
        "from statsmodels.graphics.tsaplots import plot_pacf\n",
        "from statsmodels.tsa.arima_process import ArmaProcess\n",
        "from statsmodels.tsa.arima.model import ARIMA\n",
        "from statsmodels.tsa.stattools import acf\n",
        "\n",
        "import matplotlib.pyplot as plt\n",
        "from matplotlib.dates import DateFormatter\n",
        "import matplotlib.dates as mdates\n",
        "\n",
        "from sklearn.metrics import mean_squared_error\n",
        "from math import sqrt\n",
        "import statsmodels.api as sm\n",
        "from statsmodels.tsa.stattools import adfuller\n",
        "import numpy as np"
      ],
      "metadata": {
        "colab": {
          "base_uri": "https://localhost:8080/"
        },
        "id": "qxFQORxVJjtJ",
        "outputId": "3bb6a124-4b8d-4562-9d1b-3db876127988"
      },
      "execution_count": 2,
      "outputs": [
        {
          "output_type": "stream",
          "name": "stderr",
          "text": [
            "<ipython-input-2-123fdcde6dc8>:2: FutureWarning: The pandas.datetime class is deprecated and will be removed from pandas in a future version. Import from datetime module instead.\n",
            "  from pandas import datetime\n"
          ]
        }
      ]
    },
    {
      "cell_type": "markdown",
      "source": [
        "Load new brunswick HPI Data"
      ],
      "metadata": {
        "id": "r4fuYX80iBEn"
      }
    },
    {
      "cell_type": "code",
      "source": [
        "HPI_Data=pd.read_csv('NB_Data_Updated.csv')"
      ],
      "metadata": {
        "id": "1r3LFbRpiJqN"
      },
      "execution_count": 3,
      "outputs": []
    },
    {
      "cell_type": "markdown",
      "source": [
        "Understanding HPI data set."
      ],
      "metadata": {
        "id": "I-8nvmFWmrFv"
      }
    },
    {
      "cell_type": "code",
      "source": [
        "HPI_Data.head()"
      ],
      "metadata": {
        "colab": {
          "base_uri": "https://localhost:8080/",
          "height": 444
        },
        "id": "FrXjG3HpmqLL",
        "outputId": "a208de73-633b-4274-8f81-e24cf5f1e6dc"
      },
      "execution_count": 4,
      "outputs": [
        {
          "output_type": "execute_result",
          "data": {
            "text/plain": [
              "         Date  STATIC_TOTALCPICHANGE  TOTAL_CPI  Composite_HPI_SA  \\\n",
              "0  01-01-2005                    1.9      105.3             100.0   \n",
              "1  01-02-2005                    2.1      105.7             100.4   \n",
              "2  01-03-2005                    2.3      106.3             101.1   \n",
              "3  01-04-2005                    2.4      106.6             101.2   \n",
              "4  01-05-2005                    1.6      106.7             101.5   \n",
              "\n",
              "   STATIC_TOTALCPICHANGE.1  Single_Family_HPI_SA  One_Storey_HPI_SA  \\\n",
              "0                      0.6                 100.0              100.0   \n",
              "1                      1.9                 101.3              100.5   \n",
              "2                      2.1                 102.7              100.8   \n",
              "3                      2.5                 104.7              102.2   \n",
              "4                      2.9                 106.5              103.5   \n",
              "\n",
              "   Two_Storey_HPI_SA  Townhouse_HPI_SA  Apartment_HPI_SA  \\\n",
              "0              100.0             100.0             100.0   \n",
              "1              101.6             100.7             102.3   \n",
              "2              103.5             101.5             104.9   \n",
              "3              105.6             102.3             106.9   \n",
              "4              107.6             103.0             109.4   \n",
              "\n",
              "   Composite_Benchmark_SA  Single_Family_Benchmark_SA  \\\n",
              "0                219800.0                    229800.0   \n",
              "1                222500.0                    232800.0   \n",
              "2                225400.0                    236100.0   \n",
              "3                229300.0                    240500.0   \n",
              "4                233000.0                    244700.0   \n",
              "\n",
              "   One_Storey_Benchmark_SA  Two_Storey_Benchmark_SA  Townhouse_Benchmark_SA  \\\n",
              "0                 202500.0                 246800.0                169100.0   \n",
              "1                 203500.0                 250800.0                170200.0   \n",
              "2                 204100.0                 255500.0                171600.0   \n",
              "3                 207000.0                 260500.0                173000.0   \n",
              "4                 209500.0                 265500.0                174200.0   \n",
              "\n",
              "   Apartment_Benchmark_SA  \n",
              "0                157600.0  \n",
              "1                161300.0  \n",
              "2                165300.0  \n",
              "3                168500.0  \n",
              "4                172400.0  "
            ],
            "text/html": [
              "\n",
              "  <div id=\"df-29f076ee-29af-485d-a520-9c362ad76464\">\n",
              "    <div class=\"colab-df-container\">\n",
              "      <div>\n",
              "<style scoped>\n",
              "    .dataframe tbody tr th:only-of-type {\n",
              "        vertical-align: middle;\n",
              "    }\n",
              "\n",
              "    .dataframe tbody tr th {\n",
              "        vertical-align: top;\n",
              "    }\n",
              "\n",
              "    .dataframe thead th {\n",
              "        text-align: right;\n",
              "    }\n",
              "</style>\n",
              "<table border=\"1\" class=\"dataframe\">\n",
              "  <thead>\n",
              "    <tr style=\"text-align: right;\">\n",
              "      <th></th>\n",
              "      <th>Date</th>\n",
              "      <th>STATIC_TOTALCPICHANGE</th>\n",
              "      <th>TOTAL_CPI</th>\n",
              "      <th>Composite_HPI_SA</th>\n",
              "      <th>STATIC_TOTALCPICHANGE.1</th>\n",
              "      <th>Single_Family_HPI_SA</th>\n",
              "      <th>One_Storey_HPI_SA</th>\n",
              "      <th>Two_Storey_HPI_SA</th>\n",
              "      <th>Townhouse_HPI_SA</th>\n",
              "      <th>Apartment_HPI_SA</th>\n",
              "      <th>Composite_Benchmark_SA</th>\n",
              "      <th>Single_Family_Benchmark_SA</th>\n",
              "      <th>One_Storey_Benchmark_SA</th>\n",
              "      <th>Two_Storey_Benchmark_SA</th>\n",
              "      <th>Townhouse_Benchmark_SA</th>\n",
              "      <th>Apartment_Benchmark_SA</th>\n",
              "    </tr>\n",
              "  </thead>\n",
              "  <tbody>\n",
              "    <tr>\n",
              "      <th>0</th>\n",
              "      <td>01-01-2005</td>\n",
              "      <td>1.9</td>\n",
              "      <td>105.3</td>\n",
              "      <td>100.0</td>\n",
              "      <td>0.6</td>\n",
              "      <td>100.0</td>\n",
              "      <td>100.0</td>\n",
              "      <td>100.0</td>\n",
              "      <td>100.0</td>\n",
              "      <td>100.0</td>\n",
              "      <td>219800.0</td>\n",
              "      <td>229800.0</td>\n",
              "      <td>202500.0</td>\n",
              "      <td>246800.0</td>\n",
              "      <td>169100.0</td>\n",
              "      <td>157600.0</td>\n",
              "    </tr>\n",
              "    <tr>\n",
              "      <th>1</th>\n",
              "      <td>01-02-2005</td>\n",
              "      <td>2.1</td>\n",
              "      <td>105.7</td>\n",
              "      <td>100.4</td>\n",
              "      <td>1.9</td>\n",
              "      <td>101.3</td>\n",
              "      <td>100.5</td>\n",
              "      <td>101.6</td>\n",
              "      <td>100.7</td>\n",
              "      <td>102.3</td>\n",
              "      <td>222500.0</td>\n",
              "      <td>232800.0</td>\n",
              "      <td>203500.0</td>\n",
              "      <td>250800.0</td>\n",
              "      <td>170200.0</td>\n",
              "      <td>161300.0</td>\n",
              "    </tr>\n",
              "    <tr>\n",
              "      <th>2</th>\n",
              "      <td>01-03-2005</td>\n",
              "      <td>2.3</td>\n",
              "      <td>106.3</td>\n",
              "      <td>101.1</td>\n",
              "      <td>2.1</td>\n",
              "      <td>102.7</td>\n",
              "      <td>100.8</td>\n",
              "      <td>103.5</td>\n",
              "      <td>101.5</td>\n",
              "      <td>104.9</td>\n",
              "      <td>225400.0</td>\n",
              "      <td>236100.0</td>\n",
              "      <td>204100.0</td>\n",
              "      <td>255500.0</td>\n",
              "      <td>171600.0</td>\n",
              "      <td>165300.0</td>\n",
              "    </tr>\n",
              "    <tr>\n",
              "      <th>3</th>\n",
              "      <td>01-04-2005</td>\n",
              "      <td>2.4</td>\n",
              "      <td>106.6</td>\n",
              "      <td>101.2</td>\n",
              "      <td>2.5</td>\n",
              "      <td>104.7</td>\n",
              "      <td>102.2</td>\n",
              "      <td>105.6</td>\n",
              "      <td>102.3</td>\n",
              "      <td>106.9</td>\n",
              "      <td>229300.0</td>\n",
              "      <td>240500.0</td>\n",
              "      <td>207000.0</td>\n",
              "      <td>260500.0</td>\n",
              "      <td>173000.0</td>\n",
              "      <td>168500.0</td>\n",
              "    </tr>\n",
              "    <tr>\n",
              "      <th>4</th>\n",
              "      <td>01-05-2005</td>\n",
              "      <td>1.6</td>\n",
              "      <td>106.7</td>\n",
              "      <td>101.5</td>\n",
              "      <td>2.9</td>\n",
              "      <td>106.5</td>\n",
              "      <td>103.5</td>\n",
              "      <td>107.6</td>\n",
              "      <td>103.0</td>\n",
              "      <td>109.4</td>\n",
              "      <td>233000.0</td>\n",
              "      <td>244700.0</td>\n",
              "      <td>209500.0</td>\n",
              "      <td>265500.0</td>\n",
              "      <td>174200.0</td>\n",
              "      <td>172400.0</td>\n",
              "    </tr>\n",
              "  </tbody>\n",
              "</table>\n",
              "</div>\n",
              "      <button class=\"colab-df-convert\" onclick=\"convertToInteractive('df-29f076ee-29af-485d-a520-9c362ad76464')\"\n",
              "              title=\"Convert this dataframe to an interactive table.\"\n",
              "              style=\"display:none;\">\n",
              "        \n",
              "  <svg xmlns=\"http://www.w3.org/2000/svg\" height=\"24px\"viewBox=\"0 0 24 24\"\n",
              "       width=\"24px\">\n",
              "    <path d=\"M0 0h24v24H0V0z\" fill=\"none\"/>\n",
              "    <path d=\"M18.56 5.44l.94 2.06.94-2.06 2.06-.94-2.06-.94-.94-2.06-.94 2.06-2.06.94zm-11 1L8.5 8.5l.94-2.06 2.06-.94-2.06-.94L8.5 2.5l-.94 2.06-2.06.94zm10 10l.94 2.06.94-2.06 2.06-.94-2.06-.94-.94-2.06-.94 2.06-2.06.94z\"/><path d=\"M17.41 7.96l-1.37-1.37c-.4-.4-.92-.59-1.43-.59-.52 0-1.04.2-1.43.59L10.3 9.45l-7.72 7.72c-.78.78-.78 2.05 0 2.83L4 21.41c.39.39.9.59 1.41.59.51 0 1.02-.2 1.41-.59l7.78-7.78 2.81-2.81c.8-.78.8-2.07 0-2.86zM5.41 20L4 18.59l7.72-7.72 1.47 1.35L5.41 20z\"/>\n",
              "  </svg>\n",
              "      </button>\n",
              "      \n",
              "  <style>\n",
              "    .colab-df-container {\n",
              "      display:flex;\n",
              "      flex-wrap:wrap;\n",
              "      gap: 12px;\n",
              "    }\n",
              "\n",
              "    .colab-df-convert {\n",
              "      background-color: #E8F0FE;\n",
              "      border: none;\n",
              "      border-radius: 50%;\n",
              "      cursor: pointer;\n",
              "      display: none;\n",
              "      fill: #1967D2;\n",
              "      height: 32px;\n",
              "      padding: 0 0 0 0;\n",
              "      width: 32px;\n",
              "    }\n",
              "\n",
              "    .colab-df-convert:hover {\n",
              "      background-color: #E2EBFA;\n",
              "      box-shadow: 0px 1px 2px rgba(60, 64, 67, 0.3), 0px 1px 3px 1px rgba(60, 64, 67, 0.15);\n",
              "      fill: #174EA6;\n",
              "    }\n",
              "\n",
              "    [theme=dark] .colab-df-convert {\n",
              "      background-color: #3B4455;\n",
              "      fill: #D2E3FC;\n",
              "    }\n",
              "\n",
              "    [theme=dark] .colab-df-convert:hover {\n",
              "      background-color: #434B5C;\n",
              "      box-shadow: 0px 1px 3px 1px rgba(0, 0, 0, 0.15);\n",
              "      filter: drop-shadow(0px 1px 2px rgba(0, 0, 0, 0.3));\n",
              "      fill: #FFFFFF;\n",
              "    }\n",
              "  </style>\n",
              "\n",
              "      <script>\n",
              "        const buttonEl =\n",
              "          document.querySelector('#df-29f076ee-29af-485d-a520-9c362ad76464 button.colab-df-convert');\n",
              "        buttonEl.style.display =\n",
              "          google.colab.kernel.accessAllowed ? 'block' : 'none';\n",
              "\n",
              "        async function convertToInteractive(key) {\n",
              "          const element = document.querySelector('#df-29f076ee-29af-485d-a520-9c362ad76464');\n",
              "          const dataTable =\n",
              "            await google.colab.kernel.invokeFunction('convertToInteractive',\n",
              "                                                     [key], {});\n",
              "          if (!dataTable) return;\n",
              "\n",
              "          const docLinkHtml = 'Like what you see? Visit the ' +\n",
              "            '<a target=\"_blank\" href=https://colab.research.google.com/notebooks/data_table.ipynb>data table notebook</a>'\n",
              "            + ' to learn more about interactive tables.';\n",
              "          element.innerHTML = '';\n",
              "          dataTable['output_type'] = 'display_data';\n",
              "          await google.colab.output.renderOutput(dataTable, element);\n",
              "          const docLink = document.createElement('div');\n",
              "          docLink.innerHTML = docLinkHtml;\n",
              "          element.appendChild(docLink);\n",
              "        }\n",
              "      </script>\n",
              "    </div>\n",
              "  </div>\n",
              "  "
            ]
          },
          "metadata": {},
          "execution_count": 4
        }
      ]
    },
    {
      "cell_type": "code",
      "source": [
        "HPI_Data['Date'] = pd.to_datetime(HPI_Data['Date'])"
      ],
      "metadata": {
        "id": "9rNoMsZMnLvS"
      },
      "execution_count": 5,
      "outputs": []
    },
    {
      "cell_type": "code",
      "source": [
        "#setting index as date\n",
        "HPI_Data=HPI_Data.set_index(HPI_Data['Date'])"
      ],
      "metadata": {
        "id": "OQTaJOaknVkq"
      },
      "execution_count": 6,
      "outputs": []
    },
    {
      "cell_type": "code",
      "source": [
        "HPI_Data.head()"
      ],
      "metadata": {
        "colab": {
          "base_uri": "https://localhost:8080/",
          "height": 388
        },
        "id": "GbuHELIkoasA",
        "outputId": "fa18d8b3-25cb-45d2-ae67-b97863dd1fb2"
      },
      "execution_count": 7,
      "outputs": [
        {
          "output_type": "execute_result",
          "data": {
            "text/plain": [
              "                 Date  STATIC_TOTALCPICHANGE  TOTAL_CPI  Composite_HPI_SA  \\\n",
              "Date                                                                        \n",
              "2005-01-01 2005-01-01                    1.9      105.3             100.0   \n",
              "2005-01-02 2005-01-02                    2.1      105.7             100.4   \n",
              "2005-01-03 2005-01-03                    2.3      106.3             101.1   \n",
              "2005-01-04 2005-01-04                    2.4      106.6             101.2   \n",
              "2005-01-05 2005-01-05                    1.6      106.7             101.5   \n",
              "\n",
              "            STATIC_TOTALCPICHANGE.1  Single_Family_HPI_SA  One_Storey_HPI_SA  \\\n",
              "Date                                                                           \n",
              "2005-01-01                      0.6                 100.0              100.0   \n",
              "2005-01-02                      1.9                 101.3              100.5   \n",
              "2005-01-03                      2.1                 102.7              100.8   \n",
              "2005-01-04                      2.5                 104.7              102.2   \n",
              "2005-01-05                      2.9                 106.5              103.5   \n",
              "\n",
              "            Two_Storey_HPI_SA  Townhouse_HPI_SA  Apartment_HPI_SA  \\\n",
              "Date                                                                \n",
              "2005-01-01              100.0             100.0             100.0   \n",
              "2005-01-02              101.6             100.7             102.3   \n",
              "2005-01-03              103.5             101.5             104.9   \n",
              "2005-01-04              105.6             102.3             106.9   \n",
              "2005-01-05              107.6             103.0             109.4   \n",
              "\n",
              "            Composite_Benchmark_SA  Single_Family_Benchmark_SA  \\\n",
              "Date                                                             \n",
              "2005-01-01                219800.0                    229800.0   \n",
              "2005-01-02                222500.0                    232800.0   \n",
              "2005-01-03                225400.0                    236100.0   \n",
              "2005-01-04                229300.0                    240500.0   \n",
              "2005-01-05                233000.0                    244700.0   \n",
              "\n",
              "            One_Storey_Benchmark_SA  Two_Storey_Benchmark_SA  \\\n",
              "Date                                                           \n",
              "2005-01-01                 202500.0                 246800.0   \n",
              "2005-01-02                 203500.0                 250800.0   \n",
              "2005-01-03                 204100.0                 255500.0   \n",
              "2005-01-04                 207000.0                 260500.0   \n",
              "2005-01-05                 209500.0                 265500.0   \n",
              "\n",
              "            Townhouse_Benchmark_SA  Apartment_Benchmark_SA  \n",
              "Date                                                        \n",
              "2005-01-01                169100.0                157600.0  \n",
              "2005-01-02                170200.0                161300.0  \n",
              "2005-01-03                171600.0                165300.0  \n",
              "2005-01-04                173000.0                168500.0  \n",
              "2005-01-05                174200.0                172400.0  "
            ],
            "text/html": [
              "\n",
              "  <div id=\"df-5b7255ad-323e-4836-97c1-6b4503de6ea5\">\n",
              "    <div class=\"colab-df-container\">\n",
              "      <div>\n",
              "<style scoped>\n",
              "    .dataframe tbody tr th:only-of-type {\n",
              "        vertical-align: middle;\n",
              "    }\n",
              "\n",
              "    .dataframe tbody tr th {\n",
              "        vertical-align: top;\n",
              "    }\n",
              "\n",
              "    .dataframe thead th {\n",
              "        text-align: right;\n",
              "    }\n",
              "</style>\n",
              "<table border=\"1\" class=\"dataframe\">\n",
              "  <thead>\n",
              "    <tr style=\"text-align: right;\">\n",
              "      <th></th>\n",
              "      <th>Date</th>\n",
              "      <th>STATIC_TOTALCPICHANGE</th>\n",
              "      <th>TOTAL_CPI</th>\n",
              "      <th>Composite_HPI_SA</th>\n",
              "      <th>STATIC_TOTALCPICHANGE.1</th>\n",
              "      <th>Single_Family_HPI_SA</th>\n",
              "      <th>One_Storey_HPI_SA</th>\n",
              "      <th>Two_Storey_HPI_SA</th>\n",
              "      <th>Townhouse_HPI_SA</th>\n",
              "      <th>Apartment_HPI_SA</th>\n",
              "      <th>Composite_Benchmark_SA</th>\n",
              "      <th>Single_Family_Benchmark_SA</th>\n",
              "      <th>One_Storey_Benchmark_SA</th>\n",
              "      <th>Two_Storey_Benchmark_SA</th>\n",
              "      <th>Townhouse_Benchmark_SA</th>\n",
              "      <th>Apartment_Benchmark_SA</th>\n",
              "    </tr>\n",
              "    <tr>\n",
              "      <th>Date</th>\n",
              "      <th></th>\n",
              "      <th></th>\n",
              "      <th></th>\n",
              "      <th></th>\n",
              "      <th></th>\n",
              "      <th></th>\n",
              "      <th></th>\n",
              "      <th></th>\n",
              "      <th></th>\n",
              "      <th></th>\n",
              "      <th></th>\n",
              "      <th></th>\n",
              "      <th></th>\n",
              "      <th></th>\n",
              "      <th></th>\n",
              "      <th></th>\n",
              "    </tr>\n",
              "  </thead>\n",
              "  <tbody>\n",
              "    <tr>\n",
              "      <th>2005-01-01</th>\n",
              "      <td>2005-01-01</td>\n",
              "      <td>1.9</td>\n",
              "      <td>105.3</td>\n",
              "      <td>100.0</td>\n",
              "      <td>0.6</td>\n",
              "      <td>100.0</td>\n",
              "      <td>100.0</td>\n",
              "      <td>100.0</td>\n",
              "      <td>100.0</td>\n",
              "      <td>100.0</td>\n",
              "      <td>219800.0</td>\n",
              "      <td>229800.0</td>\n",
              "      <td>202500.0</td>\n",
              "      <td>246800.0</td>\n",
              "      <td>169100.0</td>\n",
              "      <td>157600.0</td>\n",
              "    </tr>\n",
              "    <tr>\n",
              "      <th>2005-01-02</th>\n",
              "      <td>2005-01-02</td>\n",
              "      <td>2.1</td>\n",
              "      <td>105.7</td>\n",
              "      <td>100.4</td>\n",
              "      <td>1.9</td>\n",
              "      <td>101.3</td>\n",
              "      <td>100.5</td>\n",
              "      <td>101.6</td>\n",
              "      <td>100.7</td>\n",
              "      <td>102.3</td>\n",
              "      <td>222500.0</td>\n",
              "      <td>232800.0</td>\n",
              "      <td>203500.0</td>\n",
              "      <td>250800.0</td>\n",
              "      <td>170200.0</td>\n",
              "      <td>161300.0</td>\n",
              "    </tr>\n",
              "    <tr>\n",
              "      <th>2005-01-03</th>\n",
              "      <td>2005-01-03</td>\n",
              "      <td>2.3</td>\n",
              "      <td>106.3</td>\n",
              "      <td>101.1</td>\n",
              "      <td>2.1</td>\n",
              "      <td>102.7</td>\n",
              "      <td>100.8</td>\n",
              "      <td>103.5</td>\n",
              "      <td>101.5</td>\n",
              "      <td>104.9</td>\n",
              "      <td>225400.0</td>\n",
              "      <td>236100.0</td>\n",
              "      <td>204100.0</td>\n",
              "      <td>255500.0</td>\n",
              "      <td>171600.0</td>\n",
              "      <td>165300.0</td>\n",
              "    </tr>\n",
              "    <tr>\n",
              "      <th>2005-01-04</th>\n",
              "      <td>2005-01-04</td>\n",
              "      <td>2.4</td>\n",
              "      <td>106.6</td>\n",
              "      <td>101.2</td>\n",
              "      <td>2.5</td>\n",
              "      <td>104.7</td>\n",
              "      <td>102.2</td>\n",
              "      <td>105.6</td>\n",
              "      <td>102.3</td>\n",
              "      <td>106.9</td>\n",
              "      <td>229300.0</td>\n",
              "      <td>240500.0</td>\n",
              "      <td>207000.0</td>\n",
              "      <td>260500.0</td>\n",
              "      <td>173000.0</td>\n",
              "      <td>168500.0</td>\n",
              "    </tr>\n",
              "    <tr>\n",
              "      <th>2005-01-05</th>\n",
              "      <td>2005-01-05</td>\n",
              "      <td>1.6</td>\n",
              "      <td>106.7</td>\n",
              "      <td>101.5</td>\n",
              "      <td>2.9</td>\n",
              "      <td>106.5</td>\n",
              "      <td>103.5</td>\n",
              "      <td>107.6</td>\n",
              "      <td>103.0</td>\n",
              "      <td>109.4</td>\n",
              "      <td>233000.0</td>\n",
              "      <td>244700.0</td>\n",
              "      <td>209500.0</td>\n",
              "      <td>265500.0</td>\n",
              "      <td>174200.0</td>\n",
              "      <td>172400.0</td>\n",
              "    </tr>\n",
              "  </tbody>\n",
              "</table>\n",
              "</div>\n",
              "      <button class=\"colab-df-convert\" onclick=\"convertToInteractive('df-5b7255ad-323e-4836-97c1-6b4503de6ea5')\"\n",
              "              title=\"Convert this dataframe to an interactive table.\"\n",
              "              style=\"display:none;\">\n",
              "        \n",
              "  <svg xmlns=\"http://www.w3.org/2000/svg\" height=\"24px\"viewBox=\"0 0 24 24\"\n",
              "       width=\"24px\">\n",
              "    <path d=\"M0 0h24v24H0V0z\" fill=\"none\"/>\n",
              "    <path d=\"M18.56 5.44l.94 2.06.94-2.06 2.06-.94-2.06-.94-.94-2.06-.94 2.06-2.06.94zm-11 1L8.5 8.5l.94-2.06 2.06-.94-2.06-.94L8.5 2.5l-.94 2.06-2.06.94zm10 10l.94 2.06.94-2.06 2.06-.94-2.06-.94-.94-2.06-.94 2.06-2.06.94z\"/><path d=\"M17.41 7.96l-1.37-1.37c-.4-.4-.92-.59-1.43-.59-.52 0-1.04.2-1.43.59L10.3 9.45l-7.72 7.72c-.78.78-.78 2.05 0 2.83L4 21.41c.39.39.9.59 1.41.59.51 0 1.02-.2 1.41-.59l7.78-7.78 2.81-2.81c.8-.78.8-2.07 0-2.86zM5.41 20L4 18.59l7.72-7.72 1.47 1.35L5.41 20z\"/>\n",
              "  </svg>\n",
              "      </button>\n",
              "      \n",
              "  <style>\n",
              "    .colab-df-container {\n",
              "      display:flex;\n",
              "      flex-wrap:wrap;\n",
              "      gap: 12px;\n",
              "    }\n",
              "\n",
              "    .colab-df-convert {\n",
              "      background-color: #E8F0FE;\n",
              "      border: none;\n",
              "      border-radius: 50%;\n",
              "      cursor: pointer;\n",
              "      display: none;\n",
              "      fill: #1967D2;\n",
              "      height: 32px;\n",
              "      padding: 0 0 0 0;\n",
              "      width: 32px;\n",
              "    }\n",
              "\n",
              "    .colab-df-convert:hover {\n",
              "      background-color: #E2EBFA;\n",
              "      box-shadow: 0px 1px 2px rgba(60, 64, 67, 0.3), 0px 1px 3px 1px rgba(60, 64, 67, 0.15);\n",
              "      fill: #174EA6;\n",
              "    }\n",
              "\n",
              "    [theme=dark] .colab-df-convert {\n",
              "      background-color: #3B4455;\n",
              "      fill: #D2E3FC;\n",
              "    }\n",
              "\n",
              "    [theme=dark] .colab-df-convert:hover {\n",
              "      background-color: #434B5C;\n",
              "      box-shadow: 0px 1px 3px 1px rgba(0, 0, 0, 0.15);\n",
              "      filter: drop-shadow(0px 1px 2px rgba(0, 0, 0, 0.3));\n",
              "      fill: #FFFFFF;\n",
              "    }\n",
              "  </style>\n",
              "\n",
              "      <script>\n",
              "        const buttonEl =\n",
              "          document.querySelector('#df-5b7255ad-323e-4836-97c1-6b4503de6ea5 button.colab-df-convert');\n",
              "        buttonEl.style.display =\n",
              "          google.colab.kernel.accessAllowed ? 'block' : 'none';\n",
              "\n",
              "        async function convertToInteractive(key) {\n",
              "          const element = document.querySelector('#df-5b7255ad-323e-4836-97c1-6b4503de6ea5');\n",
              "          const dataTable =\n",
              "            await google.colab.kernel.invokeFunction('convertToInteractive',\n",
              "                                                     [key], {});\n",
              "          if (!dataTable) return;\n",
              "\n",
              "          const docLinkHtml = 'Like what you see? Visit the ' +\n",
              "            '<a target=\"_blank\" href=https://colab.research.google.com/notebooks/data_table.ipynb>data table notebook</a>'\n",
              "            + ' to learn more about interactive tables.';\n",
              "          element.innerHTML = '';\n",
              "          dataTable['output_type'] = 'display_data';\n",
              "          await google.colab.output.renderOutput(dataTable, element);\n",
              "          const docLink = document.createElement('div');\n",
              "          docLink.innerHTML = docLinkHtml;\n",
              "          element.appendChild(docLink);\n",
              "        }\n",
              "      </script>\n",
              "    </div>\n",
              "  </div>\n",
              "  "
            ]
          },
          "metadata": {},
          "execution_count": 7
        }
      ]
    },
    {
      "cell_type": "code",
      "source": [
        "HPI_Data=HPI_Data.dropna()"
      ],
      "metadata": {
        "id": "4-l5HZIsohJf"
      },
      "execution_count": 8,
      "outputs": []
    },
    {
      "cell_type": "code",
      "source": [
        "# plot Composite_HPI_sa\n",
        "fig, ax = plt.subplots(figsize=(16,10))\n",
        "\n",
        "ax.plot(HPI_Data['Date'], HPI_Data['Composite_HPI_SA'], label=\"HPI\")\n",
        "\n",
        "\n",
        "ax.set(xlabel=\"Date\", ylabel=\"Composite_HPI_SA\",\n",
        "       title=\"Composite_HPI_SA\")\n",
        "\n",
        "#ax.xaxis.set_major_locator(mdates.WeekdayLocator(interval=2))\n",
        "ax.xaxis.set_major_formatter(DateFormatter(\"%y-%m\"))\n",
        "\n",
        "plt.legend()\n",
        "plt.show()"
      ],
      "metadata": {
        "colab": {
          "base_uri": "https://localhost:8080/",
          "height": 621
        },
        "id": "Al20lrKZomV5",
        "outputId": "62bb68c1-5144-4b38-fe26-6f1b999b3c37"
      },
      "execution_count": 9,
      "outputs": [
        {
          "output_type": "display_data",
          "data": {
            "text/plain": [
              "<Figure size 1152x720 with 1 Axes>"
            ],
            "image/png": "[encoded data removed]"
          },
          "metadata": {
            "needs_background": "light"
          }
        }
      ]
    },
    {
      "cell_type": "code",
      "source": [
        "# plot for hpi analysis\n",
        "fig, ax = plt.subplots(figsize=(16,10))\n",
        "\n",
        "ax.plot(HPI_Data['Date'], HPI_Data['Composite_HPI_SA'], label=\"Sales_in_millions\")\n",
        "#ax.plot(HPI_Data['Date'], HPI_Data['Composite_HPI_SA'].rolling( window=3).mean(), label=\"windowsize-3\")\n",
        "ax.plot(HPI_Data['Date'], HPI_Data['Composite_HPI_SA'].rolling( window=12).mean(), label=\"windowsize-12\")\n",
        "\n",
        "ax.set(xlabel=\"Date\", ylabel=\"HPI Data Analysis\",\n",
        "       title=\"HPI Data Analysis for running mean\")\n",
        "\n",
        "#ax.xaxis.set_major_locator(mdates.WeekdayLocator(interval=2))\n",
        "ax.xaxis.set_major_formatter(DateFormatter(\"19%y-%m\"))\n",
        "\n",
        "plt.legend()\n",
        "plt.show()"
      ],
      "metadata": {
        "colab": {
          "base_uri": "https://localhost:8080/",
          "height": 621
        },
        "id": "VZf6XRirpKWt",
        "outputId": "59c7613f-51ec-42a9-b802-02658ef14f7d"
      },
      "execution_count": 10,
      "outputs": [
        {
          "output_type": "display_data",
          "data": {
            "text/plain": [
              "<Figure size 1152x720 with 1 Axes>"
            ],
            "image/png": "[encoded data removed]"
          },
          "metadata": {
            "needs_background": "light"
          }
        }
      ]
    },
    {
      "cell_type": "code",
      "source": [
        "HPI_Data['Composite_HPI_SA']=HPI_Data['Composite_HPI_SA'].dropna()"
      ],
      "metadata": {
        "id": "ovYn0TneKu3G"
      },
      "execution_count": 11,
      "outputs": []
    },
    {
      "cell_type": "code",
      "source": [
        "# test for stationarity\n",
        "#Ho: It is non stationary\n",
        "#H1: It is stationary\n",
        "def adfuller_test(sales):\n",
        "    result=adfuller(sales)\n",
        "    labels = ['p-value','#Lags Used']\n",
        "    print(labels[0]+' : '+str(result[1])) \n",
        "    print(labels[1]+' : '+str(result[2]))\n",
        "    if result[1] <= 0.05:\n",
        "        print(\"Data has no unit root and is stationary\")\n",
        "    else:\n",
        "        print(\"Data is non-stationary \")"
      ],
      "metadata": {
        "id": "cffbV-3qqASs"
      },
      "execution_count": 12,
      "outputs": []
    },
    {
      "cell_type": "code",
      "source": [
        "adfuller_test(HPI_Data['Composite_HPI_SA'].dropna())"
      ],
      "metadata": {
        "colab": {
          "base_uri": "https://localhost:8080/"
        },
        "id": "LSgQmL_jqBwr",
        "outputId": "c14d6ed2-509c-428a-a453-1cc3097aabe5"
      },
      "execution_count": 13,
      "outputs": [
        {
          "output_type": "stream",
          "name": "stdout",
          "text": [
            "p-value : 0.6948925025831387\n",
            "#Lags Used : 13\n",
            "Data is non-stationary \n"
          ]
        }
      ]
    },
    {
      "cell_type": "code",
      "source": [
        "#stationary after second differencing\n",
        "adfuller_test(HPI_Data['Composite_HPI_SA'].diff().dropna().dropna().diff().dropna())"
      ],
      "metadata": {
        "colab": {
          "base_uri": "https://localhost:8080/"
        },
        "id": "pesWw3-MqPAW",
        "outputId": "87c3ecb5-5a7e-43cb-e7d0-f877edbb7aa7"
      },
      "execution_count": 14,
      "outputs": [
        {
          "output_type": "stream",
          "name": "stdout",
          "text": [
            "p-value : 0.00045157278144502183\n",
            "#Lags Used : 11\n",
            "Data has no unit root and is stationary\n"
          ]
        }
      ]
    },
    {
      "cell_type": "code",
      "source": [
        "dup_HPI_Data=HPI_Data\n",
        "size = int(len(dup_HPI_Data) * 0.945)"
      ],
      "metadata": {
        "id": "YmtytYMoqVSL"
      },
      "execution_count": 15,
      "outputs": []
    },
    {
      "cell_type": "code",
      "source": [
        "train, test = dup_HPI_Data[0:size], dup_HPI_Data[size:len(dup_HPI_Data)]"
      ],
      "metadata": {
        "id": "bgcN9JwBrYGE"
      },
      "execution_count": 16,
      "outputs": []
    },
    {
      "cell_type": "code",
      "source": [
        "len(train)"
      ],
      "metadata": {
        "colab": {
          "base_uri": "https://localhost:8080/"
        },
        "id": "c0Tyit62Ot2o",
        "outputId": "34242af3-f6e1-4ed4-8c3e-ebbe79edc3c1"
      },
      "execution_count": 17,
      "outputs": [
        {
          "output_type": "execute_result",
          "data": {
            "text/plain": [
              "202"
            ]
          },
          "metadata": {},
          "execution_count": 17
        }
      ]
    },
    {
      "cell_type": "code",
      "source": [
        "#test size\n",
        "len(test)"
      ],
      "metadata": {
        "colab": {
          "base_uri": "https://localhost:8080/"
        },
        "id": "fCez9djmZIcK",
        "outputId": "01886a00-472f-4909-b49b-1e8389792b01"
      },
      "execution_count": 18,
      "outputs": [
        {
          "output_type": "execute_result",
          "data": {
            "text/plain": [
              "12"
            ]
          },
          "metadata": {},
          "execution_count": 18
        }
      ]
    },
    {
      "cell_type": "code",
      "source": [
        "plot_pacf(train['Composite_HPI_SA'].diff().dropna(),lags=36,method='ywm');"
      ],
      "metadata": {
        "colab": {
          "base_uri": "https://localhost:8080/",
          "height": 281
        },
        "id": "eWifsxqxrpEf",
        "outputId": "812d7503-94ab-4929-cca8-1bcd3fd6e3c0"
      },
      "execution_count": 19,
      "outputs": [
        {
          "output_type": "display_data",
          "data": {
            "text/plain": [
              "<Figure size 432x288 with 1 Axes>"
            ],
            "image/png": "[encoded data removed]"
          },
          "metadata": {
            "needs_background": "light"
          }
        }
      ]
    },
    {
      "cell_type": "code",
      "source": [
        "plot_acf(train['Composite_HPI_SA'].diff().dropna(),lags=[12,24,36]);"
      ],
      "metadata": {
        "colab": {
          "base_uri": "https://localhost:8080/",
          "height": 281
        },
        "id": "tw6ww8RFrvjk",
        "outputId": "48bf3e00-c3d1-429e-8a91-6545d3ebb49e"
      },
      "execution_count": 20,
      "outputs": [
        {
          "output_type": "display_data",
          "data": {
            "text/plain": [
              "<Figure size 432x288 with 1 Axes>"
            ],
            "image/png": "[encoded data removed]"
          },
          "metadata": {
            "needs_background": "light"
          }
        }
      ]
    },
    {
      "cell_type": "markdown",
      "source": [
        "Unable to properly consider p and q values from pacf and acf graphs"
      ],
      "metadata": {
        "id": "oeICLUQMLMd6"
      }
    },
    {
      "cell_type": "code",
      "source": [
        "test=test.set_index(test['Date'])"
      ],
      "metadata": {
        "id": "nHkI-YGXr-RO"
      },
      "execution_count": 21,
      "outputs": []
    },
    {
      "cell_type": "code",
      "source": [
        "train_series=train['Composite_HPI_SA'].squeeze()\n",
        "test_series=test['Composite_HPI_SA'].squeeze()\n",
        "train_series_nd=train_series.values\n",
        "test_series_nd=test_series.values"
      ],
      "metadata": {
        "id": "MOzr_AqfsHu8"
      },
      "execution_count": 22,
      "outputs": []
    },
    {
      "cell_type": "code",
      "source": [
        "test_series"
      ],
      "metadata": {
        "colab": {
          "base_uri": "https://localhost:8080/"
        },
        "id": "oknVjh4yzcXG",
        "outputId": "6113cddf-e413-4baa-ecf1-070a3a146690"
      },
      "execution_count": 23,
      "outputs": [
        {
          "output_type": "execute_result",
          "data": {
            "text/plain": [
              "Date\n",
              "2021-01-11    206.8\n",
              "2021-01-12    211.3\n",
              "2022-01-01    216.5\n",
              "2022-01-02    223.5\n",
              "2022-01-03    228.5\n",
              "2022-01-04    231.5\n",
              "2022-01-05    234.3\n",
              "2022-01-06    236.5\n",
              "2022-01-07    235.8\n",
              "2022-01-08    231.7\n",
              "2022-01-09    229.7\n",
              "2022-01-10    226.5\n",
              "Name: Composite_HPI_SA, dtype: float64"
            ]
          },
          "metadata": {},
          "execution_count": 23
        }
      ]
    },
    {
      "cell_type": "code",
      "source": [
        "# grid search for ideal p and q values\n",
        "best_aic=0\n",
        "flag=0\n",
        "for p in range(4):\n",
        "  for q in range(4):\n",
        "    model = ARIMA(train_series, order=(p ,1, q))\n",
        "    model_fit = model.fit()\n",
        "    aic=model_fit.aic\n",
        "    if((aic>=best_aic) & (flag==0)):\n",
        "        best_aic=aic\n",
        "        flag=1\n",
        "        best_p=p\n",
        "        best_q=q\n",
        "    if((aic<best_aic) & (flag==1)):\n",
        "      best_aic=aic\n",
        "      best_p=p\n",
        "      best_q=q\n",
        "print('Best p and q combination for 1st difference arima model with low aic score')\n",
        "print(f'best p value {best_p}')\n",
        "print(f'best q value {best_q}')"
      ],
      "metadata": {
        "colab": {
          "base_uri": "https://localhost:8080/"
        },
        "id": "sH8iZeRCsQ3R",
        "outputId": "73fab083-7291-4594-80b1-7e284989b64d"
      },
      "execution_count": 24,
      "outputs": [
        {
          "output_type": "stream",
          "name": "stderr",
          "text": [
            "/usr/local/lib/python3.8/dist-packages/statsmodels/tsa/base/tsa_model.py:471: ValueWarning: A date index has been provided, but it has no associated frequency information and so will be ignored when e.g. forecasting.\n",
            "  self._init_dates(dates, freq)\n",
            "/usr/local/lib/python3.8/dist-packages/statsmodels/tsa/base/tsa_model.py:471: ValueWarning: A date index has been provided, but it has no associated frequency information and so will be ignored when e.g. forecasting.\n",
            "  self._init_dates(dates, freq)\n",
            "/usr/local/lib/python3.8/dist-packages/statsmodels/tsa/base/tsa_model.py:471: ValueWarning: A date index has been provided, but it has no associated frequency information and so will be ignored when e.g. forecasting.\n",
            "  self._init_dates(dates, freq)\n",
            "/usr/local/lib/python3.8/dist-packages/statsmodels/tsa/base/tsa_model.py:471: ValueWarning: A date index has been provided, but it has no associated frequency information and so will be ignored when e.g. forecasting.\n",
            "  self._init_dates(dates, freq)\n",
            "/usr/local/lib/python3.8/dist-packages/statsmodels/tsa/base/tsa_model.py:471: ValueWarning: A date index has been provided, but it has no associated frequency information and so will be ignored when e.g. forecasting.\n",
            "  self._init_dates(dates, freq)\n",
            "/usr/local/lib/python3.8/dist-packages/statsmodels/tsa/base/tsa_model.py:471: ValueWarning: A date index has been provided, but it has no associated frequency information and so will be ignored when e.g. forecasting.\n",
            "  self._init_dates(dates, freq)\n",
            "/usr/local/lib/python3.8/dist-packages/statsmodels/tsa/base/tsa_model.py:471: ValueWarning: A date index has been provided, but it has no associated frequency information and so will be ignored when e.g. forecasting.\n",
            "  self._init_dates(dates, freq)\n",
            "/usr/local/lib/python3.8/dist-packages/statsmodels/tsa/base/tsa_model.py:471: ValueWarning: A date index has been provided, but it has no associated frequency information and so will be ignored when e.g. forecasting.\n",
            "  self._init_dates(dates, freq)\n",
            "/usr/local/lib/python3.8/dist-packages/statsmodels/tsa/base/tsa_model.py:471: ValueWarning: A date index has been provided, but it has no associated frequency information and so will be ignored when e.g. forecasting.\n",
            "  self._init_dates(dates, freq)\n",
            "/usr/local/lib/python3.8/dist-packages/statsmodels/tsa/base/tsa_model.py:471: ValueWarning: A date index has been provided, but it has no associated frequency information and so will be ignored when e.g. forecasting.\n",
            "  self._init_dates(dates, freq)\n",
            "/usr/local/lib/python3.8/dist-packages/statsmodels/tsa/base/tsa_model.py:471: ValueWarning: A date index has been provided, but it has no associated frequency information and so will be ignored when e.g. forecasting.\n",
            "  self._init_dates(dates, freq)\n",
            "/usr/local/lib/python3.8/dist-packages/statsmodels/tsa/base/tsa_model.py:471: ValueWarning: A date index has been provided, but it has no associated frequency information and so will be ignored when e.g. forecasting.\n",
            "  self._init_dates(dates, freq)\n",
            "/usr/local/lib/python3.8/dist-packages/statsmodels/tsa/base/tsa_model.py:471: ValueWarning: A date index has been provided, but it has no associated frequency information and so will be ignored when e.g. forecasting.\n",
            "  self._init_dates(dates, freq)\n",
            "/usr/local/lib/python3.8/dist-packages/statsmodels/tsa/base/tsa_model.py:471: ValueWarning: A date index has been provided, but it has no associated frequency information and so will be ignored when e.g. forecasting.\n",
            "  self._init_dates(dates, freq)\n",
            "/usr/local/lib/python3.8/dist-packages/statsmodels/tsa/base/tsa_model.py:471: ValueWarning: A date index has been provided, but it has no associated frequency information and so will be ignored when e.g. forecasting.\n",
            "  self._init_dates(dates, freq)\n",
            "/usr/local/lib/python3.8/dist-packages/statsmodels/tsa/base/tsa_model.py:471: ValueWarning: A date index has been provided, but it has no associated frequency information and so will be ignored when e.g. forecasting.\n",
            "  self._init_dates(dates, freq)\n",
            "/usr/local/lib/python3.8/dist-packages/statsmodels/tsa/base/tsa_model.py:471: ValueWarning: A date index has been provided, but it has no associated frequency information and so will be ignored when e.g. forecasting.\n",
            "  self._init_dates(dates, freq)\n",
            "/usr/local/lib/python3.8/dist-packages/statsmodels/tsa/base/tsa_model.py:471: ValueWarning: A date index has been provided, but it has no associated frequency information and so will be ignored when e.g. forecasting.\n",
            "  self._init_dates(dates, freq)\n",
            "/usr/local/lib/python3.8/dist-packages/statsmodels/tsa/base/tsa_model.py:471: ValueWarning: A date index has been provided, but it has no associated frequency information and so will be ignored when e.g. forecasting.\n",
            "  self._init_dates(dates, freq)\n",
            "/usr/local/lib/python3.8/dist-packages/statsmodels/tsa/base/tsa_model.py:471: ValueWarning: A date index has been provided, but it has no associated frequency information and so will be ignored when e.g. forecasting.\n",
            "  self._init_dates(dates, freq)\n",
            "/usr/local/lib/python3.8/dist-packages/statsmodels/tsa/base/tsa_model.py:471: ValueWarning: A date index has been provided, but it has no associated frequency information and so will be ignored when e.g. forecasting.\n",
            "  self._init_dates(dates, freq)\n",
            "/usr/local/lib/python3.8/dist-packages/statsmodels/tsa/statespace/sarimax.py:966: UserWarning: Non-stationary starting autoregressive parameters found. Using zeros as starting parameters.\n",
            "  warn('Non-stationary starting autoregressive parameters'\n",
            "/usr/local/lib/python3.8/dist-packages/statsmodels/tsa/base/tsa_model.py:471: ValueWarning: A date index has been provided, but it has no associated frequency information and so will be ignored when e.g. forecasting.\n",
            "  self._init_dates(dates, freq)\n",
            "/usr/local/lib/python3.8/dist-packages/statsmodels/tsa/base/tsa_model.py:471: ValueWarning: A date index has been provided, but it has no associated frequency information and so will be ignored when e.g. forecasting.\n",
            "  self._init_dates(dates, freq)\n",
            "/usr/local/lib/python3.8/dist-packages/statsmodels/tsa/base/tsa_model.py:471: ValueWarning: A date index has been provided, but it has no associated frequency information and so will be ignored when e.g. forecasting.\n",
            "  self._init_dates(dates, freq)\n",
            "/usr/local/lib/python3.8/dist-packages/statsmodels/tsa/base/tsa_model.py:471: ValueWarning: A date index has been provided, but it has no associated frequency information and so will be ignored when e.g. forecasting.\n",
            "  self._init_dates(dates, freq)\n",
            "/usr/local/lib/python3.8/dist-packages/statsmodels/tsa/base/tsa_model.py:471: ValueWarning: A date index has been provided, but it has no associated frequency information and so will be ignored when e.g. forecasting.\n",
            "  self._init_dates(dates, freq)\n",
            "/usr/local/lib/python3.8/dist-packages/statsmodels/tsa/base/tsa_model.py:471: ValueWarning: A date index has been provided, but it has no associated frequency information and so will be ignored when e.g. forecasting.\n",
            "  self._init_dates(dates, freq)\n",
            "/usr/local/lib/python3.8/dist-packages/statsmodels/tsa/base/tsa_model.py:471: ValueWarning: A date index has been provided, but it has no associated frequency information and so will be ignored when e.g. forecasting.\n",
            "  self._init_dates(dates, freq)\n",
            "/usr/local/lib/python3.8/dist-packages/statsmodels/tsa/base/tsa_model.py:471: ValueWarning: A date index has been provided, but it has no associated frequency information and so will be ignored when e.g. forecasting.\n",
            "  self._init_dates(dates, freq)\n",
            "/usr/local/lib/python3.8/dist-packages/statsmodels/tsa/base/tsa_model.py:471: ValueWarning: A date index has been provided, but it has no associated frequency information and so will be ignored when e.g. forecasting.\n",
            "  self._init_dates(dates, freq)\n",
            "/usr/local/lib/python3.8/dist-packages/statsmodels/tsa/base/tsa_model.py:471: ValueWarning: A date index has been provided, but it has no associated frequency information and so will be ignored when e.g. forecasting.\n",
            "  self._init_dates(dates, freq)\n",
            "/usr/local/lib/python3.8/dist-packages/statsmodels/tsa/base/tsa_model.py:471: ValueWarning: A date index has been provided, but it has no associated frequency information and so will be ignored when e.g. forecasting.\n",
            "  self._init_dates(dates, freq)\n",
            "/usr/local/lib/python3.8/dist-packages/statsmodels/tsa/base/tsa_model.py:471: ValueWarning: A date index has been provided, but it has no associated frequency information and so will be ignored when e.g. forecasting.\n",
            "  self._init_dates(dates, freq)\n",
            "/usr/local/lib/python3.8/dist-packages/statsmodels/tsa/base/tsa_model.py:471: ValueWarning: A date index has been provided, but it has no associated frequency information and so will be ignored when e.g. forecasting.\n",
            "  self._init_dates(dates, freq)\n",
            "/usr/local/lib/python3.8/dist-packages/statsmodels/tsa/base/tsa_model.py:471: ValueWarning: A date index has been provided, but it has no associated frequency information and so will be ignored when e.g. forecasting.\n",
            "  self._init_dates(dates, freq)\n",
            "/usr/local/lib/python3.8/dist-packages/statsmodels/tsa/base/tsa_model.py:471: ValueWarning: A date index has been provided, but it has no associated frequency information and so will be ignored when e.g. forecasting.\n",
            "  self._init_dates(dates, freq)\n",
            "/usr/local/lib/python3.8/dist-packages/statsmodels/tsa/base/tsa_model.py:471: ValueWarning: A date index has been provided, but it has no associated frequency information and so will be ignored when e.g. forecasting.\n",
            "  self._init_dates(dates, freq)\n",
            "/usr/local/lib/python3.8/dist-packages/statsmodels/tsa/base/tsa_model.py:471: ValueWarning: A date index has been provided, but it has no associated frequency information and so will be ignored when e.g. forecasting.\n",
            "  self._init_dates(dates, freq)\n",
            "/usr/local/lib/python3.8/dist-packages/statsmodels/tsa/base/tsa_model.py:471: ValueWarning: A date index has been provided, but it has no associated frequency information and so will be ignored when e.g. forecasting.\n",
            "  self._init_dates(dates, freq)\n",
            "/usr/local/lib/python3.8/dist-packages/statsmodels/tsa/base/tsa_model.py:471: ValueWarning: A date index has been provided, but it has no associated frequency information and so will be ignored when e.g. forecasting.\n",
            "  self._init_dates(dates, freq)\n",
            "/usr/local/lib/python3.8/dist-packages/statsmodels/tsa/base/tsa_model.py:471: ValueWarning: A date index has been provided, but it has no associated frequency information and so will be ignored when e.g. forecasting.\n",
            "  self._init_dates(dates, freq)\n",
            "/usr/local/lib/python3.8/dist-packages/statsmodels/tsa/base/tsa_model.py:471: ValueWarning: A date index has been provided, but it has no associated frequency information and so will be ignored when e.g. forecasting.\n",
            "  self._init_dates(dates, freq)\n",
            "/usr/local/lib/python3.8/dist-packages/statsmodels/tsa/base/tsa_model.py:471: ValueWarning: A date index has been provided, but it has no associated frequency information and so will be ignored when e.g. forecasting.\n",
            "  self._init_dates(dates, freq)\n",
            "/usr/local/lib/python3.8/dist-packages/statsmodels/tsa/base/tsa_model.py:471: ValueWarning: A date index has been provided, but it has no associated frequency information and so will be ignored when e.g. forecasting.\n",
            "  self._init_dates(dates, freq)\n",
            "/usr/local/lib/python3.8/dist-packages/statsmodels/tsa/base/tsa_model.py:471: ValueWarning: A date index has been provided, but it has no associated frequency information and so will be ignored when e.g. forecasting.\n",
            "  self._init_dates(dates, freq)\n",
            "/usr/local/lib/python3.8/dist-packages/statsmodels/tsa/statespace/sarimax.py:978: UserWarning: Non-invertible starting MA parameters found. Using zeros as starting parameters.\n",
            "  warn('Non-invertible starting MA parameters found.'\n",
            "/usr/local/lib/python3.8/dist-packages/statsmodels/base/model.py:604: ConvergenceWarning: Maximum Likelihood optimization failed to converge. Check mle_retvals\n",
            "  warnings.warn(\"Maximum Likelihood optimization failed to \"\n",
            "/usr/local/lib/python3.8/dist-packages/statsmodels/tsa/base/tsa_model.py:471: ValueWarning: A date index has been provided, but it has no associated frequency information and so will be ignored when e.g. forecasting.\n",
            "  self._init_dates(dates, freq)\n",
            "/usr/local/lib/python3.8/dist-packages/statsmodels/tsa/base/tsa_model.py:471: ValueWarning: A date index has been provided, but it has no associated frequency information and so will be ignored when e.g. forecasting.\n",
            "  self._init_dates(dates, freq)\n",
            "/usr/local/lib/python3.8/dist-packages/statsmodels/tsa/base/tsa_model.py:471: ValueWarning: A date index has been provided, but it has no associated frequency information and so will be ignored when e.g. forecasting.\n",
            "  self._init_dates(dates, freq)\n"
          ]
        },
        {
          "output_type": "stream",
          "name": "stdout",
          "text": [
            "Best p and q combination for 1st difference arima model with low aic score\n",
            "best p value 3\n",
            "best q value 3\n"
          ]
        },
        {
          "output_type": "stream",
          "name": "stderr",
          "text": [
            "/usr/local/lib/python3.8/dist-packages/statsmodels/base/model.py:604: ConvergenceWarning: Maximum Likelihood optimization failed to converge. Check mle_retvals\n",
            "  warnings.warn(\"Maximum Likelihood optimization failed to \"\n"
          ]
        }
      ]
    },
    {
      "cell_type": "code",
      "source": [
        "#by above output p=3 and q=3\n",
        "model = ARIMA(train_series, order=(3 ,2, 3))\n",
        "model_fit = model.fit()"
      ],
      "metadata": {
        "colab": {
          "base_uri": "https://localhost:8080/"
        },
        "id": "OHAEQxEysUKN",
        "outputId": "04fba482-e5d7-4c0c-f097-3af4d946505d"
      },
      "execution_count": 25,
      "outputs": [
        {
          "output_type": "stream",
          "name": "stderr",
          "text": [
            "/usr/local/lib/python3.8/dist-packages/statsmodels/tsa/base/tsa_model.py:471: ValueWarning: A date index has been provided, but it has no associated frequency information and so will be ignored when e.g. forecasting.\n",
            "  self._init_dates(dates, freq)\n",
            "/usr/local/lib/python3.8/dist-packages/statsmodels/tsa/base/tsa_model.py:471: ValueWarning: A date index has been provided, but it has no associated frequency information and so will be ignored when e.g. forecasting.\n",
            "  self._init_dates(dates, freq)\n",
            "/usr/local/lib/python3.8/dist-packages/statsmodels/tsa/base/tsa_model.py:471: ValueWarning: A date index has been provided, but it has no associated frequency information and so will be ignored when e.g. forecasting.\n",
            "  self._init_dates(dates, freq)\n",
            "/usr/local/lib/python3.8/dist-packages/statsmodels/base/model.py:604: ConvergenceWarning: Maximum Likelihood optimization failed to converge. Check mle_retvals\n",
            "  warnings.warn(\"Maximum Likelihood optimization failed to \"\n"
          ]
        }
      ]
    },
    {
      "cell_type": "code",
      "source": [
        "len(test_series)"
      ],
      "metadata": {
        "colab": {
          "base_uri": "https://localhost:8080/"
        },
        "id": "fYv-N4b-0xXw",
        "outputId": "2d18dd84-b00f-4e59-e597-795852721920"
      },
      "execution_count": 26,
      "outputs": [
        {
          "output_type": "execute_result",
          "data": {
            "text/plain": [
              "12"
            ]
          },
          "metadata": {},
          "execution_count": 26
        }
      ]
    },
    {
      "cell_type": "code",
      "source": [
        "test_series.index"
      ],
      "metadata": {
        "colab": {
          "base_uri": "https://localhost:8080/"
        },
        "id": "_kG91hObsadm",
        "outputId": "f9059d6a-cf91-4065-c33f-6ef067772548"
      },
      "execution_count": 27,
      "outputs": [
        {
          "output_type": "execute_result",
          "data": {
            "text/plain": [
              "DatetimeIndex(['2021-01-11', '2021-01-12', '2022-01-01', '2022-01-02',\n",
              "               '2022-01-03', '2022-01-04', '2022-01-05', '2022-01-06',\n",
              "               '2022-01-07', '2022-01-08', '2022-01-09', '2022-01-10'],\n",
              "              dtype='datetime64[ns]', name='Date', freq=None)"
            ]
          },
          "metadata": {},
          "execution_count": 27
        }
      ]
    },
    {
      "cell_type": "code",
      "source": [
        "forecast = model_fit.forecast(steps=12)\n",
        "print(forecast)"
      ],
      "metadata": {
        "colab": {
          "base_uri": "https://localhost:8080/"
        },
        "id": "QeKAxjN2st7W",
        "outputId": "f02551e9-3c9f-4a10-d7a4-0d79a3e65cf6"
      },
      "execution_count": 28,
      "outputs": [
        {
          "output_type": "stream",
          "name": "stdout",
          "text": [
            "202    205.353870\n",
            "203    209.184781\n",
            "204    213.367767\n",
            "205    217.832559\n",
            "206    222.015404\n",
            "207    225.866633\n",
            "208    229.898093\n",
            "209    234.285410\n",
            "210    238.593401\n",
            "211    242.548256\n",
            "212    246.488633\n",
            "213    250.756023\n",
            "Name: predicted_mean, dtype: float64\n"
          ]
        },
        {
          "output_type": "stream",
          "name": "stderr",
          "text": [
            "/usr/local/lib/python3.8/dist-packages/statsmodels/tsa/base/tsa_model.py:834: ValueWarning: No supported index is available. Prediction results will be given with an integer index beginning at `start`.\n",
            "  return get_prediction_index(\n"
          ]
        }
      ]
    },
    {
      "cell_type": "code",
      "source": [
        "#pd.date_range('2019-01-05':'2022-01-11')\n",
        "forecast.index=test_series.index"
      ],
      "metadata": {
        "id": "eydgRH05wNKP"
      },
      "execution_count": 29,
      "outputs": []
    },
    {
      "cell_type": "code",
      "source": [
        "type(forecast)"
      ],
      "metadata": {
        "colab": {
          "base_uri": "https://localhost:8080/"
        },
        "id": "GIyp9OCexzeD",
        "outputId": "52bb1e9b-2724-471c-fe99-a42fe4c6a58c"
      },
      "execution_count": 30,
      "outputs": [
        {
          "output_type": "execute_result",
          "data": {
            "text/plain": [
              "pandas.core.series.Series"
            ]
          },
          "metadata": {},
          "execution_count": 30
        }
      ]
    },
    {
      "cell_type": "code",
      "source": [
        "forecast"
      ],
      "metadata": {
        "colab": {
          "base_uri": "https://localhost:8080/"
        },
        "id": "VDUDA58-z3ax",
        "outputId": "26496633-4f5c-4852-9a81-42999d34c76f"
      },
      "execution_count": 31,
      "outputs": [
        {
          "output_type": "execute_result",
          "data": {
            "text/plain": [
              "Date\n",
              "2021-01-11    205.353870\n",
              "2021-01-12    209.184781\n",
              "2022-01-01    213.367767\n",
              "2022-01-02    217.832559\n",
              "2022-01-03    222.015404\n",
              "2022-01-04    225.866633\n",
              "2022-01-05    229.898093\n",
              "2022-01-06    234.285410\n",
              "2022-01-07    238.593401\n",
              "2022-01-08    242.548256\n",
              "2022-01-09    246.488633\n",
              "2022-01-10    250.756023\n",
              "Name: predicted_mean, dtype: float64"
            ]
          },
          "metadata": {},
          "execution_count": 31
        }
      ]
    },
    {
      "cell_type": "code",
      "source": [
        "#rmse\n",
        "rmse = sqrt(mean_squared_error(forecast, test_series))\n",
        "print(rmse)\n",
        "print('ARIMA(3,2,3) RMSE: %.2f' % rmse)"
      ],
      "metadata": {
        "colab": {
          "base_uri": "https://localhost:8080/"
        },
        "id": "927XXekNuUEo",
        "outputId": "4adca906-140c-4556-a2f8-9e399fdac137"
      },
      "execution_count": 32,
      "outputs": [
        {
          "output_type": "stream",
          "name": "stdout",
          "text": [
            "9.756462827544942\n",
            "ARIMA(3,2,3) RMSE: 9.76\n"
          ]
        }
      ]
    },
    {
      "cell_type": "code",
      "source": [
        "#normalised rmse\n",
        "rmse/(test_series.max()-test_series.min())"
      ],
      "metadata": {
        "colab": {
          "base_uri": "https://localhost:8080/"
        },
        "id": "cv-Ol-SNwqYk",
        "outputId": "d829734b-5225-4d6f-f032-77799eca80de"
      },
      "execution_count": 33,
      "outputs": [
        {
          "output_type": "execute_result",
          "data": {
            "text/plain": [
              "0.32850043190387024"
            ]
          },
          "metadata": {},
          "execution_count": 33
        }
      ]
    },
    {
      "cell_type": "code",
      "source": [
        "#plot for results\n",
        "plt.plot(test_series, label=\"Actual\")\n",
        "plt.plot(forecast.index,forecast, color='green', label=\"Forecast\")\n",
        "plt.title(\" actual vs forecast\")\n",
        "plt.xlabel(\"Date\")\n",
        "plt.ylabel(\"Sales\")\n",
        "plt.legend()\n",
        "plt.show()"
      ],
      "metadata": {
        "colab": {
          "base_uri": "https://localhost:8080/",
          "height": 295
        },
        "id": "aV_qax3Lz-Ez",
        "outputId": "2f2a90be-ae5b-491b-a30c-93fc44cb9e57"
      },
      "execution_count": 34,
      "outputs": [
        {
          "output_type": "display_data",
          "data": {
            "text/plain": [
              "<Figure size 432x288 with 1 Axes>"
            ],
            "image/png": "[encoded data removed]"
          },
          "metadata": {
            "needs_background": "light"
          }
        }
      ]
    },
    {
      "cell_type": "markdown",
      "source": [
        "## Vector auto regression implementation"
      ],
      "metadata": {
        "id": "mZvHUnpDM5uX"
      }
    },
    {
      "cell_type": "code",
      "source": [
        "from statsmodels.tsa.stattools import grangercausalitytests"
      ],
      "metadata": {
        "id": "pN4Efgl20rqN"
      },
      "execution_count": 35,
      "outputs": []
    },
    {
      "cell_type": "code",
      "source": [
        "from statsmodels.graphics.tsaplots import plot_acf, plot_pacf\n",
        "from statsmodels.tsa.statespace.varmax import VARMAX\n",
        "from statsmodels.tsa.api import VAR\n",
        "\n",
        "from statsmodels.tsa.stattools import grangercausalitytests, adfuller\n",
        "from tqdm import tqdm_notebook\n",
        "from itertools import product"
      ],
      "metadata": {
        "id": "N1pvHb3JADRL"
      },
      "execution_count": 36,
      "outputs": []
    },
    {
      "cell_type": "code",
      "source": [
        "Canada_HPI=pd.read_csv('NB_Data_Updated.csv',parse_dates=True)\n",
        "\n",
        "Canada_HPI=Canada_HPI.set_index(Canada_HPI['Date'])"
      ],
      "metadata": {
        "id": "7vrndCeqBnd9"
      },
      "execution_count": 37,
      "outputs": []
    },
    {
      "cell_type": "code",
      "source": [
        "Canada_HPI=Canada_HPI.dropna()"
      ],
      "metadata": {
        "id": "H0WmRxsIGwNM"
      },
      "execution_count": 38,
      "outputs": []
    },
    {
      "cell_type": "code",
      "source": [
        "#plot for hpi and total cpi\n",
        "fig, ax = plt.subplots(figsize=(16,10))\n",
        "\n",
        "ax.plot(Canada_HPI['Date'], Canada_HPI['Composite_HPI_SA'], label=\"COMPOSITE_SPI\")\n",
        "\n",
        "ax.plot(Canada_HPI['Date'], Canada_HPI['TOTAL_CPI'], label=\"CPI\")\n",
        "\n",
        "ax.set(xlabel=\"Date\", ylabel=\"units\",\n",
        "       title=\"COMPOSITE_SPI vs COMPOSITE_SPI Analysis \")\n",
        "\n",
        "#ax.xaxis.set_major_locator(mdates.WeekdayLocator(interval=2))\n",
        "#ax.xaxis.set_major_formatter(DateFormatter(\"%y-%m\"))\n",
        "plt.legend()\n",
        "plt.show()"
      ],
      "metadata": {
        "colab": {
          "base_uri": "https://localhost:8080/",
          "height": 621
        },
        "id": "zcyQu_B2HGrw",
        "outputId": "5ac1d638-3bf9-480a-babd-59b59d0b6ce7"
      },
      "execution_count": 39,
      "outputs": [
        {
          "output_type": "display_data",
          "data": {
            "text/plain": [
              "<Figure size 1152x720 with 1 Axes>"
            ],
            "image/png": "[encoded data removed]"
          },
          "metadata": {
            "needs_background": "light"
          }
        }
      ]
    },
    {
      "cell_type": "code",
      "source": [
        "Canada_HPI=Canada_HPI.dropna()"
      ],
      "metadata": {
        "id": "8YFxK6DCKVDL"
      },
      "execution_count": 40,
      "outputs": []
    },
    {
      "cell_type": "code",
      "source": [
        "#plot for composite spi and static total cpi change\n",
        "fig, ax = plt.subplots(figsize=(16,10))\n",
        "\n",
        "#ax.plot(Canada_HPI['Date'], Canada_HPI['Composite_HPI_SA'], label=\"COMPOSITE_SPI\")\n",
        "\n",
        "ax.plot(Canada_HPI['Date'], Canada_HPI['STATIC_TOTALCPICHANGE'], label=\"CPI\")\n",
        "\n",
        "ax.set(xlabel=\"Date\", ylabel=\"units\",\n",
        "       title=\"COMPOSITE_SPI vs COMPOSITE_SPI Analysis \")\n",
        "\n",
        "#ax.xaxis.set_major_locator(mdates.WeekdayLocator(interval=2))\n",
        "#ax.xaxis.set_major_formatter(DateFormatter(\"%y-%m\"))\n",
        "plt.legend()\n",
        "plt.show()"
      ],
      "metadata": {
        "colab": {
          "base_uri": "https://localhost:8080/",
          "height": 621
        },
        "id": "vxd699AiIJst",
        "outputId": "28c20149-e575-48bf-cc26-c0bf2156f3c1"
      },
      "execution_count": 74,
      "outputs": [
        {
          "output_type": "display_data",
          "data": {
            "text/plain": [
              "<Figure size 1152x720 with 1 Axes>"
            ],
            "image/png": "[encoded data removed]"
          },
          "metadata": {
            "needs_background": "light"
          }
        }
      ]
    },
    {
      "cell_type": "code",
      "source": [
        "#stationary after first order differencing\n",
        "adfuller_test(Canada_HPI['STATIC_TOTALCPICHANGE'].diff().dropna())"
      ],
      "metadata": {
        "colab": {
          "base_uri": "https://localhost:8080/"
        },
        "id": "7ZX23NrTIrK0",
        "outputId": "274a64c5-cc82-4947-abbf-bbb4aea030dc"
      },
      "execution_count": 43,
      "outputs": [
        {
          "output_type": "stream",
          "name": "stdout",
          "text": [
            "p-value : 0.00031260259525553143\n",
            "#Lags Used : 12\n",
            "Data has no unit root and is stationary\n"
          ]
        }
      ]
    },
    {
      "cell_type": "code",
      "source": [
        "#statictotal cpi granger cause compoiste hpi granger cuasality hypothesis testing \n",
        "granger_spending = grangercausalitytests(Canada_HPI[['STATIC_TOTALCPICHANGE', 'Composite_HPI_SA']], 8)"
      ],
      "metadata": {
        "colab": {
          "base_uri": "https://localhost:8080/"
        },
        "id": "ak67KiPDK_SK",
        "outputId": "c20afdc8-e42f-4720-f363-5e1fbd3a95b6"
      },
      "execution_count": 44,
      "outputs": [
        {
          "output_type": "stream",
          "name": "stdout",
          "text": [
            "\n",
            "Granger Causality\n",
            "number of lags (no zero) 1\n",
            "ssr based F test:         F=13.3353 , p=0.0003  , df_denom=210, df_num=1\n",
            "ssr based chi2 test:   chi2=13.5259 , p=0.0002  , df=1\n",
            "likelihood ratio test: chi2=13.1138 , p=0.0003  , df=1\n",
            "parameter F test:         F=13.3353 , p=0.0003  , df_denom=210, df_num=1\n",
            "\n",
            "Granger Causality\n",
            "number of lags (no zero) 2\n",
            "ssr based F test:         F=8.1885  , p=0.0004  , df_denom=207, df_num=2\n",
            "ssr based chi2 test:   chi2=16.7725 , p=0.0002  , df=2\n",
            "likelihood ratio test: chi2=16.1420 , p=0.0003  , df=2\n",
            "parameter F test:         F=8.1885  , p=0.0004  , df_denom=207, df_num=2\n",
            "\n",
            "Granger Causality\n",
            "number of lags (no zero) 3\n",
            "ssr based F test:         F=6.3493  , p=0.0004  , df_denom=204, df_num=3\n",
            "ssr based chi2 test:   chi2=19.7016 , p=0.0002  , df=3\n",
            "likelihood ratio test: chi2=18.8353 , p=0.0003  , df=3\n",
            "parameter F test:         F=6.3493  , p=0.0004  , df_denom=204, df_num=3\n",
            "\n",
            "Granger Causality\n",
            "number of lags (no zero) 4\n",
            "ssr based F test:         F=4.7592  , p=0.0011  , df_denom=201, df_num=4\n",
            "ssr based chi2 test:   chi2=19.8890 , p=0.0005  , df=4\n",
            "likelihood ratio test: chi2=19.0027 , p=0.0008  , df=4\n",
            "parameter F test:         F=4.7592  , p=0.0011  , df_denom=201, df_num=4\n",
            "\n",
            "Granger Causality\n",
            "number of lags (no zero) 5\n",
            "ssr based F test:         F=5.2988  , p=0.0001  , df_denom=198, df_num=5\n",
            "ssr based chi2 test:   chi2=27.9661 , p=0.0000  , df=5\n",
            "likelihood ratio test: chi2=26.2468 , p=0.0001  , df=5\n",
            "parameter F test:         F=5.2988  , p=0.0001  , df_denom=198, df_num=5\n",
            "\n",
            "Granger Causality\n",
            "number of lags (no zero) 6\n",
            "ssr based F test:         F=4.5127  , p=0.0003  , df_denom=195, df_num=6\n",
            "ssr based chi2 test:   chi2=28.8814 , p=0.0001  , df=6\n",
            "likelihood ratio test: chi2=27.0445 , p=0.0001  , df=6\n",
            "parameter F test:         F=4.5127  , p=0.0003  , df_denom=195, df_num=6\n",
            "\n",
            "Granger Causality\n",
            "number of lags (no zero) 7\n",
            "ssr based F test:         F=3.8527  , p=0.0006  , df_denom=192, df_num=7\n",
            "ssr based chi2 test:   chi2=29.0756 , p=0.0001  , df=7\n",
            "likelihood ratio test: chi2=27.2067 , p=0.0003  , df=7\n",
            "parameter F test:         F=3.8527  , p=0.0006  , df_denom=192, df_num=7\n",
            "\n",
            "Granger Causality\n",
            "number of lags (no zero) 8\n",
            "ssr based F test:         F=4.0587  , p=0.0002  , df_denom=189, df_num=8\n",
            "ssr based chi2 test:   chi2=35.3905 , p=0.0000  , df=8\n",
            "likelihood ratio test: chi2=32.6592 , p=0.0001  , df=8\n",
            "parameter F test:         F=4.0587  , p=0.0002  , df_denom=189, df_num=8\n"
          ]
        }
      ]
    },
    {
      "cell_type": "markdown",
      "source": [
        "Since p values have smaller values than alpha which is a clear indication of cause and effect relationship fot CPI ang HPI"
      ],
      "metadata": {
        "id": "ReE-f6d_PerO"
      }
    },
    {
      "cell_type": "code",
      "source": [
        "Canada_HPI_diff1=Canada_HPI[['Composite_HPI_SA', 'STATIC_TOTALCPICHANGE']].diff().dropna()"
      ],
      "metadata": {
        "id": "dJ4Odq6xMXuY"
      },
      "execution_count": 45,
      "outputs": []
    },
    {
      "cell_type": "code",
      "source": [
        "train_length=len(Canada_HPI_diff1)*0.95\n",
        "test_length=len(Canada_HPI_diff1)*0.05\n",
        "print(int(train_length))\n",
        "print(test_length)"
      ],
      "metadata": {
        "colab": {
          "base_uri": "https://localhost:8080/"
        },
        "id": "7rT1TE49MGBd",
        "outputId": "64fefe23-aa96-4ccf-d841-0429473481a1"
      },
      "execution_count": 75,
      "outputs": [
        {
          "output_type": "stream",
          "name": "stdout",
          "text": [
            "202\n",
            "10.65\n"
          ]
        }
      ]
    },
    {
      "cell_type": "code",
      "source": [
        "Canada_HPI_diff1.index"
      ],
      "metadata": {
        "colab": {
          "base_uri": "https://localhost:8080/"
        },
        "id": "Yqa8ZSYgMpx6",
        "outputId": "2efee6f0-2412-467a-bbd9-548b198af581"
      },
      "execution_count": 76,
      "outputs": [
        {
          "output_type": "execute_result",
          "data": {
            "text/plain": [
              "Index(['01-02-2005', '01-03-2005', '01-04-2005', '01-05-2005', '01-06-2005',\n",
              "       '01-07-2005', '01-08-2005', '01-09-2005', '01-10-2005', '01-11-2005',\n",
              "       ...\n",
              "       '01-01-2022', '01-02-2022', '01-03-2022', '01-04-2022', '01-05-2022',\n",
              "       '01-06-2022', '01-07-2022', '01-08-2022', '01-09-2022', '01-10-2022'],\n",
              "      dtype='object', name='Date', length=213)"
            ]
          },
          "metadata": {},
          "execution_count": 76
        }
      ]
    },
    {
      "cell_type": "code",
      "source": [
        "train=Canada_HPI_diff1[:200]"
      ],
      "metadata": {
        "id": "_I3nf0EnMvWK"
      },
      "execution_count": 77,
      "outputs": []
    },
    {
      "cell_type": "code",
      "source": [
        "test=Canada_HPI_diff1[200:]"
      ],
      "metadata": {
        "id": "7drtF0zMYtuA"
      },
      "execution_count": 78,
      "outputs": []
    },
    {
      "cell_type": "code",
      "source": [
        "train.head()\n",
        "print(len(train))\n",
        "print(len(test))"
      ],
      "metadata": {
        "colab": {
          "base_uri": "https://localhost:8080/"
        },
        "id": "ucjjNombNflC",
        "outputId": "2670b8e3-4931-401a-b933-af36cf08593b"
      },
      "execution_count": 79,
      "outputs": [
        {
          "output_type": "stream",
          "name": "stdout",
          "text": [
            "200\n",
            "13\n"
          ]
        }
      ]
    },
    {
      "cell_type": "code",
      "source": [
        "print(test)"
      ],
      "metadata": {
        "colab": {
          "base_uri": "https://localhost:8080/"
        },
        "id": "lgXIXg74PBMC",
        "outputId": "1e227f3d-31f6-4f39-c4d1-cfa959e7ef9d"
      },
      "execution_count": 52,
      "outputs": [
        {
          "output_type": "stream",
          "name": "stdout",
          "text": [
            "            Composite_HPI_SA  STATIC_TOTALCPICHANGE\n",
            "Date                                               \n",
            "01-10-2021               5.6                    0.3\n",
            "01-11-2021               5.3                    0.0\n",
            "01-12-2021               4.5                    0.1\n",
            "01-01-2022               5.2                    0.3\n",
            "01-02-2022               7.0                    0.6\n",
            "01-03-2022               5.0                    1.0\n",
            "01-04-2022               3.0                    0.1\n",
            "01-05-2022               2.8                    0.9\n",
            "01-06-2022               2.2                    0.4\n",
            "01-07-2022              -0.7                   -0.5\n",
            "01-08-2022              -4.1                   -0.6\n",
            "01-09-2022              -2.0                   -0.1\n",
            "01-10-2022              -3.2                    0.0\n"
          ]
        }
      ]
    },
    {
      "cell_type": "code",
      "source": [
        "#VAR model building\n",
        "model_1 = VAR(train)"
      ],
      "metadata": {
        "colab": {
          "base_uri": "https://localhost:8080/"
        },
        "id": "crwzL-aQNyzN",
        "outputId": "e458994b-eb2d-45ff-f60c-664ac3368937"
      },
      "execution_count": 53,
      "outputs": [
        {
          "output_type": "stream",
          "name": "stderr",
          "text": [
            "/usr/local/lib/python3.8/dist-packages/statsmodels/tsa/base/tsa_model.py:471: ValueWarning: A date index has been provided, but it has no associated frequency information and so will be ignored when e.g. forecasting.\n",
            "  self._init_dates(dates, freq)\n"
          ]
        }
      ]
    },
    {
      "cell_type": "code",
      "source": [
        "var= VAR(train)\n",
        "model_var = var.fit(4)"
      ],
      "metadata": {
        "colab": {
          "base_uri": "https://localhost:8080/"
        },
        "id": "i0o5MYImN-y1",
        "outputId": "88646d0b-1dd8-48ca-ef0c-6a6c083d4543"
      },
      "execution_count": 54,
      "outputs": [
        {
          "output_type": "stream",
          "name": "stderr",
          "text": [
            "/usr/local/lib/python3.8/dist-packages/statsmodels/tsa/base/tsa_model.py:471: ValueWarning: A date index has been provided, but it has no associated frequency information and so will be ignored when e.g. forecasting.\n",
            "  self._init_dates(dates, freq)\n"
          ]
        }
      ]
    },
    {
      "cell_type": "code",
      "source": [
        "print(train)"
      ],
      "metadata": {
        "colab": {
          "base_uri": "https://localhost:8080/"
        },
        "id": "Ywfz9kqWQCW_",
        "outputId": "69c454e7-4ca7-49fc-f064-cd230f756aca"
      },
      "execution_count": 55,
      "outputs": [
        {
          "output_type": "stream",
          "name": "stdout",
          "text": [
            "            Composite_HPI_SA  STATIC_TOTALCPICHANGE\n",
            "Date                                               \n",
            "01-02-2005               0.4                    0.2\n",
            "01-03-2005               0.7                    0.2\n",
            "01-04-2005               0.1                    0.1\n",
            "01-05-2005               0.3                   -0.8\n",
            "01-06-2005               0.4                    0.1\n",
            "...                      ...                    ...\n",
            "01-05-2021               3.3                    0.2\n",
            "01-06-2021               2.1                   -0.5\n",
            "01-07-2021               3.4                    0.6\n",
            "01-08-2021               4.5                    0.4\n",
            "01-09-2021               4.4                    0.3\n",
            "\n",
            "[200 rows x 2 columns]\n"
          ]
        }
      ]
    },
    {
      "cell_type": "code",
      "source": [
        "type(train)"
      ],
      "metadata": {
        "colab": {
          "base_uri": "https://localhost:8080/"
        },
        "id": "VSnp7oLd1MA5",
        "outputId": "9a07cadb-eee3-4917-b301-df41f7c6d984"
      },
      "execution_count": 56,
      "outputs": [
        {
          "output_type": "execute_result",
          "data": {
            "text/plain": [
              "pandas.core.frame.DataFrame"
            ]
          },
          "metadata": {},
          "execution_count": 56
        }
      ]
    },
    {
      "cell_type": "code",
      "source": [
        "train.tail(11)"
      ],
      "metadata": {
        "colab": {
          "base_uri": "https://localhost:8080/",
          "height": 426
        },
        "id": "Z6Q94ZMEHSi_",
        "outputId": "c46bc422-e4ef-42b2-9613-2be9886f6646"
      },
      "execution_count": 57,
      "outputs": [
        {
          "output_type": "execute_result",
          "data": {
            "text/plain": [
              "            Composite_HPI_SA  STATIC_TOTALCPICHANGE\n",
              "Date                                               \n",
              "01-11-2020               3.2                    0.3\n",
              "01-12-2020               3.9                   -0.3\n",
              "01-01-2021               2.6                    0.3\n",
              "01-02-2021               3.8                    0.1\n",
              "01-03-2021               3.2                    1.1\n",
              "01-04-2021               4.3                    1.2\n",
              "01-05-2021               3.3                    0.2\n",
              "01-06-2021               2.1                   -0.5\n",
              "01-07-2021               3.4                    0.6\n",
              "01-08-2021               4.5                    0.4\n",
              "01-09-2021               4.4                    0.3"
            ],
            "text/html": [
              "\n",
              "  <div id=\"df-037fd469-a3c7-4b0b-988c-78bbe5b848a7\">\n",
              "    <div class=\"colab-df-container\">\n",
              "      <div>\n",
              "<style scoped>\n",
              "    .dataframe tbody tr th:only-of-type {\n",
              "        vertical-align: middle;\n",
              "    }\n",
              "\n",
              "    .dataframe tbody tr th {\n",
              "        vertical-align: top;\n",
              "    }\n",
              "\n",
              "    .dataframe thead th {\n",
              "        text-align: right;\n",
              "    }\n",
              "</style>\n",
              "<table border=\"1\" class=\"dataframe\">\n",
              "  <thead>\n",
              "    <tr style=\"text-align: right;\">\n",
              "      <th></th>\n",
              "      <th>Composite_HPI_SA</th>\n",
              "      <th>STATIC_TOTALCPICHANGE</th>\n",
              "    </tr>\n",
              "    <tr>\n",
              "      <th>Date</th>\n",
              "      <th></th>\n",
              "      <th></th>\n",
              "    </tr>\n",
              "  </thead>\n",
              "  <tbody>\n",
              "    <tr>\n",
              "      <th>01-11-2020</th>\n",
              "      <td>3.2</td>\n",
              "      <td>0.3</td>\n",
              "    </tr>\n",
              "    <tr>\n",
              "      <th>01-12-2020</th>\n",
              "      <td>3.9</td>\n",
              "      <td>-0.3</td>\n",
              "    </tr>\n",
              "    <tr>\n",
              "      <th>01-01-2021</th>\n",
              "      <td>2.6</td>\n",
              "      <td>0.3</td>\n",
              "    </tr>\n",
              "    <tr>\n",
              "      <th>01-02-2021</th>\n",
              "      <td>3.8</td>\n",
              "      <td>0.1</td>\n",
              "    </tr>\n",
              "    <tr>\n",
              "      <th>01-03-2021</th>\n",
              "      <td>3.2</td>\n",
              "      <td>1.1</td>\n",
              "    </tr>\n",
              "    <tr>\n",
              "      <th>01-04-2021</th>\n",
              "      <td>4.3</td>\n",
              "      <td>1.2</td>\n",
              "    </tr>\n",
              "    <tr>\n",
              "      <th>01-05-2021</th>\n",
              "      <td>3.3</td>\n",
              "      <td>0.2</td>\n",
              "    </tr>\n",
              "    <tr>\n",
              "      <th>01-06-2021</th>\n",
              "      <td>2.1</td>\n",
              "      <td>-0.5</td>\n",
              "    </tr>\n",
              "    <tr>\n",
              "      <th>01-07-2021</th>\n",
              "      <td>3.4</td>\n",
              "      <td>0.6</td>\n",
              "    </tr>\n",
              "    <tr>\n",
              "      <th>01-08-2021</th>\n",
              "      <td>4.5</td>\n",
              "      <td>0.4</td>\n",
              "    </tr>\n",
              "    <tr>\n",
              "      <th>01-09-2021</th>\n",
              "      <td>4.4</td>\n",
              "      <td>0.3</td>\n",
              "    </tr>\n",
              "  </tbody>\n",
              "</table>\n",
              "</div>\n",
              "      <button class=\"colab-df-convert\" onclick=\"convertToInteractive('df-037fd469-a3c7-4b0b-988c-78bbe5b848a7')\"\n",
              "              title=\"Convert this dataframe to an interactive table.\"\n",
              "              style=\"display:none;\">\n",
              "        \n",
              "  <svg xmlns=\"http://www.w3.org/2000/svg\" height=\"24px\"viewBox=\"0 0 24 24\"\n",
              "       width=\"24px\">\n",
              "    <path d=\"M0 0h24v24H0V0z\" fill=\"none\"/>\n",
              "    <path d=\"M18.56 5.44l.94 2.06.94-2.06 2.06-.94-2.06-.94-.94-2.06-.94 2.06-2.06.94zm-11 1L8.5 8.5l.94-2.06 2.06-.94-2.06-.94L8.5 2.5l-.94 2.06-2.06.94zm10 10l.94 2.06.94-2.06 2.06-.94-2.06-.94-.94-2.06-.94 2.06-2.06.94z\"/><path d=\"M17.41 7.96l-1.37-1.37c-.4-.4-.92-.59-1.43-.59-.52 0-1.04.2-1.43.59L10.3 9.45l-7.72 7.72c-.78.78-.78 2.05 0 2.83L4 21.41c.39.39.9.59 1.41.59.51 0 1.02-.2 1.41-.59l7.78-7.78 2.81-2.81c.8-.78.8-2.07 0-2.86zM5.41 20L4 18.59l7.72-7.72 1.47 1.35L5.41 20z\"/>\n",
              "  </svg>\n",
              "      </button>\n",
              "      \n",
              "  <style>\n",
              "    .colab-df-container {\n",
              "      display:flex;\n",
              "      flex-wrap:wrap;\n",
              "      gap: 12px;\n",
              "    }\n",
              "\n",
              "    .colab-df-convert {\n",
              "      background-color: #E8F0FE;\n",
              "      border: none;\n",
              "      border-radius: 50%;\n",
              "      cursor: pointer;\n",
              "      display: none;\n",
              "      fill: #1967D2;\n",
              "      height: 32px;\n",
              "      padding: 0 0 0 0;\n",
              "      width: 32px;\n",
              "    }\n",
              "\n",
              "    .colab-df-convert:hover {\n",
              "      background-color: #E2EBFA;\n",
              "      box-shadow: 0px 1px 2px rgba(60, 64, 67, 0.3), 0px 1px 3px 1px rgba(60, 64, 67, 0.15);\n",
              "      fill: #174EA6;\n",
              "    }\n",
              "\n",
              "    [theme=dark] .colab-df-convert {\n",
              "      background-color: #3B4455;\n",
              "      fill: #D2E3FC;\n",
              "    }\n",
              "\n",
              "    [theme=dark] .colab-df-convert:hover {\n",
              "      background-color: #434B5C;\n",
              "      box-shadow: 0px 1px 3px 1px rgba(0, 0, 0, 0.15);\n",
              "      filter: drop-shadow(0px 1px 2px rgba(0, 0, 0, 0.3));\n",
              "      fill: #FFFFFF;\n",
              "    }\n",
              "  </style>\n",
              "\n",
              "      <script>\n",
              "        const buttonEl =\n",
              "          document.querySelector('#df-037fd469-a3c7-4b0b-988c-78bbe5b848a7 button.colab-df-convert');\n",
              "        buttonEl.style.display =\n",
              "          google.colab.kernel.accessAllowed ? 'block' : 'none';\n",
              "\n",
              "        async function convertToInteractive(key) {\n",
              "          const element = document.querySelector('#df-037fd469-a3c7-4b0b-988c-78bbe5b848a7');\n",
              "          const dataTable =\n",
              "            await google.colab.kernel.invokeFunction('convertToInteractive',\n",
              "                                                     [key], {});\n",
              "          if (!dataTable) return;\n",
              "\n",
              "          const docLinkHtml = 'Like what you see? Visit the ' +\n",
              "            '<a target=\"_blank\" href=https://colab.research.google.com/notebooks/data_table.ipynb>data table notebook</a>'\n",
              "            + ' to learn more about interactive tables.';\n",
              "          element.innerHTML = '';\n",
              "          dataTable['output_type'] = 'display_data';\n",
              "          await google.colab.output.renderOutput(dataTable, element);\n",
              "          const docLink = document.createElement('div');\n",
              "          docLink.innerHTML = docLinkHtml;\n",
              "          element.appendChild(docLink);\n",
              "        }\n",
              "      </script>\n",
              "    </div>\n",
              "  </div>\n",
              "  "
            ]
          },
          "metadata": {},
          "execution_count": 57
        }
      ]
    },
    {
      "cell_type": "code",
      "source": [
        "print(model_var.summary())"
      ],
      "metadata": {
        "colab": {
          "base_uri": "https://localhost:8080/"
        },
        "id": "d-UHa3G2OB27",
        "outputId": "05e3564f-f8f2-4a37-9350-204b1f70d605"
      },
      "execution_count": 58,
      "outputs": [
        {
          "output_type": "stream",
          "name": "stdout",
          "text": [
            "  Summary of Regression Results   \n",
            "==================================\n",
            "Model:                         VAR\n",
            "Method:                        OLS\n",
            "Date:           Tue, 20, Dec, 2022\n",
            "Time:                     15:51:33\n",
            "--------------------------------------------------------------------\n",
            "No. of Equations:         2.00000    BIC:                   -1.66283\n",
            "Nobs:                     196.000    HQIC:                  -1.84201\n",
            "Log likelihood:          -345.763    FPE:                   0.140330\n",
            "AIC:                     -1.96389    Det(Omega_mle):        0.128279\n",
            "--------------------------------------------------------------------\n",
            "Results for equation Composite_HPI_SA\n",
            "===========================================================================================\n",
            "                              coefficient       std. error           t-stat            prob\n",
            "-------------------------------------------------------------------------------------------\n",
            "const                            0.093805         0.067283            1.394           0.163\n",
            "L1.Composite_HPI_SA              0.375843         0.070810            5.308           0.000\n",
            "L1.STATIC_TOTALCPICHANGE         0.474986         0.136766            3.473           0.001\n",
            "L2.Composite_HPI_SA              0.201845         0.076005            2.656           0.008\n",
            "L2.STATIC_TOTALCPICHANGE        -0.395144         0.140504           -2.812           0.005\n",
            "L3.Composite_HPI_SA              0.021687         0.075695            0.287           0.774\n",
            "L3.STATIC_TOTALCPICHANGE         0.157946         0.142186            1.111           0.267\n",
            "L4.Composite_HPI_SA              0.278840         0.070794            3.939           0.000\n",
            "L4.STATIC_TOTALCPICHANGE        -0.120522         0.143053           -0.842           0.400\n",
            "===========================================================================================\n",
            "\n",
            "Results for equation STATIC_TOTALCPICHANGE\n",
            "===========================================================================================\n",
            "                              coefficient       std. error           t-stat            prob\n",
            "-------------------------------------------------------------------------------------------\n",
            "const                           -0.033353         0.035218           -0.947           0.344\n",
            "L1.Composite_HPI_SA              0.014719         0.037064            0.397           0.691\n",
            "L1.STATIC_TOTALCPICHANGE         0.064350         0.071588            0.899           0.369\n",
            "L2.Composite_HPI_SA              0.044144         0.039783            1.110           0.267\n",
            "L2.STATIC_TOTALCPICHANGE        -0.107413         0.073544           -1.461           0.144\n",
            "L3.Composite_HPI_SA             -0.026416         0.039621           -0.667           0.505\n",
            "L3.STATIC_TOTALCPICHANGE        -0.050346         0.074424           -0.676           0.499\n",
            "L4.Composite_HPI_SA              0.080929         0.037056            2.184           0.029\n",
            "L4.STATIC_TOTALCPICHANGE        -0.053182         0.074878           -0.710           0.478\n",
            "===========================================================================================\n",
            "\n",
            "Correlation matrix of residuals\n",
            "                         Composite_HPI_SA  STATIC_TOTALCPICHANGE\n",
            "Composite_HPI_SA                 1.000000              -0.000047\n",
            "STATIC_TOTALCPICHANGE           -0.000047               1.000000\n",
            "\n",
            "\n",
            "\n"
          ]
        }
      ]
    },
    {
      "cell_type": "code",
      "source": [
        "test"
      ],
      "metadata": {
        "colab": {
          "base_uri": "https://localhost:8080/",
          "height": 488
        },
        "id": "ekPqQS1_FkpC",
        "outputId": "8a31f244-d9af-4741-93a6-44d89f886138"
      },
      "execution_count": 59,
      "outputs": [
        {
          "output_type": "execute_result",
          "data": {
            "text/plain": [
              "            Composite_HPI_SA  STATIC_TOTALCPICHANGE\n",
              "Date                                               \n",
              "01-10-2021               5.6                    0.3\n",
              "01-11-2021               5.3                    0.0\n",
              "01-12-2021               4.5                    0.1\n",
              "01-01-2022               5.2                    0.3\n",
              "01-02-2022               7.0                    0.6\n",
              "01-03-2022               5.0                    1.0\n",
              "01-04-2022               3.0                    0.1\n",
              "01-05-2022               2.8                    0.9\n",
              "01-06-2022               2.2                    0.4\n",
              "01-07-2022              -0.7                   -0.5\n",
              "01-08-2022              -4.1                   -0.6\n",
              "01-09-2022              -2.0                   -0.1\n",
              "01-10-2022              -3.2                    0.0"
            ],
            "text/html": [
              "\n",
              "  <div id=\"df-1f79c84f-585d-4367-901a-1824e25fc0da\">\n",
              "    <div class=\"colab-df-container\">\n",
              "      <div>\n",
              "<style scoped>\n",
              "    .dataframe tbody tr th:only-of-type {\n",
              "        vertical-align: middle;\n",
              "    }\n",
              "\n",
              "    .dataframe tbody tr th {\n",
              "        vertical-align: top;\n",
              "    }\n",
              "\n",
              "    .dataframe thead th {\n",
              "        text-align: right;\n",
              "    }\n",
              "</style>\n",
              "<table border=\"1\" class=\"dataframe\">\n",
              "  <thead>\n",
              "    <tr style=\"text-align: right;\">\n",
              "      <th></th>\n",
              "      <th>Composite_HPI_SA</th>\n",
              "      <th>STATIC_TOTALCPICHANGE</th>\n",
              "    </tr>\n",
              "    <tr>\n",
              "      <th>Date</th>\n",
              "      <th></th>\n",
              "      <th></th>\n",
              "    </tr>\n",
              "  </thead>\n",
              "  <tbody>\n",
              "    <tr>\n",
              "      <th>01-10-2021</th>\n",
              "      <td>5.6</td>\n",
              "      <td>0.3</td>\n",
              "    </tr>\n",
              "    <tr>\n",
              "      <th>01-11-2021</th>\n",
              "      <td>5.3</td>\n",
              "      <td>0.0</td>\n",
              "    </tr>\n",
              "    <tr>\n",
              "      <th>01-12-2021</th>\n",
              "      <td>4.5</td>\n",
              "      <td>0.1</td>\n",
              "    </tr>\n",
              "    <tr>\n",
              "      <th>01-01-2022</th>\n",
              "      <td>5.2</td>\n",
              "      <td>0.3</td>\n",
              "    </tr>\n",
              "    <tr>\n",
              "      <th>01-02-2022</th>\n",
              "      <td>7.0</td>\n",
              "      <td>0.6</td>\n",
              "    </tr>\n",
              "    <tr>\n",
              "      <th>01-03-2022</th>\n",
              "      <td>5.0</td>\n",
              "      <td>1.0</td>\n",
              "    </tr>\n",
              "    <tr>\n",
              "      <th>01-04-2022</th>\n",
              "      <td>3.0</td>\n",
              "      <td>0.1</td>\n",
              "    </tr>\n",
              "    <tr>\n",
              "      <th>01-05-2022</th>\n",
              "      <td>2.8</td>\n",
              "      <td>0.9</td>\n",
              "    </tr>\n",
              "    <tr>\n",
              "      <th>01-06-2022</th>\n",
              "      <td>2.2</td>\n",
              "      <td>0.4</td>\n",
              "    </tr>\n",
              "    <tr>\n",
              "      <th>01-07-2022</th>\n",
              "      <td>-0.7</td>\n",
              "      <td>-0.5</td>\n",
              "    </tr>\n",
              "    <tr>\n",
              "      <th>01-08-2022</th>\n",
              "      <td>-4.1</td>\n",
              "      <td>-0.6</td>\n",
              "    </tr>\n",
              "    <tr>\n",
              "      <th>01-09-2022</th>\n",
              "      <td>-2.0</td>\n",
              "      <td>-0.1</td>\n",
              "    </tr>\n",
              "    <tr>\n",
              "      <th>01-10-2022</th>\n",
              "      <td>-3.2</td>\n",
              "      <td>0.0</td>\n",
              "    </tr>\n",
              "  </tbody>\n",
              "</table>\n",
              "</div>\n",
              "      <button class=\"colab-df-convert\" onclick=\"convertToInteractive('df-1f79c84f-585d-4367-901a-1824e25fc0da')\"\n",
              "              title=\"Convert this dataframe to an interactive table.\"\n",
              "              style=\"display:none;\">\n",
              "        \n",
              "  <svg xmlns=\"http://www.w3.org/2000/svg\" height=\"24px\"viewBox=\"0 0 24 24\"\n",
              "       width=\"24px\">\n",
              "    <path d=\"M0 0h24v24H0V0z\" fill=\"none\"/>\n",
              "    <path d=\"M18.56 5.44l.94 2.06.94-2.06 2.06-.94-2.06-.94-.94-2.06-.94 2.06-2.06.94zm-11 1L8.5 8.5l.94-2.06 2.06-.94-2.06-.94L8.5 2.5l-.94 2.06-2.06.94zm10 10l.94 2.06.94-2.06 2.06-.94-2.06-.94-.94-2.06-.94 2.06-2.06.94z\"/><path d=\"M17.41 7.96l-1.37-1.37c-.4-.4-.92-.59-1.43-.59-.52 0-1.04.2-1.43.59L10.3 9.45l-7.72 7.72c-.78.78-.78 2.05 0 2.83L4 21.41c.39.39.9.59 1.41.59.51 0 1.02-.2 1.41-.59l7.78-7.78 2.81-2.81c.8-.78.8-2.07 0-2.86zM5.41 20L4 18.59l7.72-7.72 1.47 1.35L5.41 20z\"/>\n",
              "  </svg>\n",
              "      </button>\n",
              "      \n",
              "  <style>\n",
              "    .colab-df-container {\n",
              "      display:flex;\n",
              "      flex-wrap:wrap;\n",
              "      gap: 12px;\n",
              "    }\n",
              "\n",
              "    .colab-df-convert {\n",
              "      background-color: #E8F0FE;\n",
              "      border: none;\n",
              "      border-radius: 50%;\n",
              "      cursor: pointer;\n",
              "      display: none;\n",
              "      fill: #1967D2;\n",
              "      height: 32px;\n",
              "      padding: 0 0 0 0;\n",
              "      width: 32px;\n",
              "    }\n",
              "\n",
              "    .colab-df-convert:hover {\n",
              "      background-color: #E2EBFA;\n",
              "      box-shadow: 0px 1px 2px rgba(60, 64, 67, 0.3), 0px 1px 3px 1px rgba(60, 64, 67, 0.15);\n",
              "      fill: #174EA6;\n",
              "    }\n",
              "\n",
              "    [theme=dark] .colab-df-convert {\n",
              "      background-color: #3B4455;\n",
              "      fill: #D2E3FC;\n",
              "    }\n",
              "\n",
              "    [theme=dark] .colab-df-convert:hover {\n",
              "      background-color: #434B5C;\n",
              "      box-shadow: 0px 1px 3px 1px rgba(0, 0, 0, 0.15);\n",
              "      filter: drop-shadow(0px 1px 2px rgba(0, 0, 0, 0.3));\n",
              "      fill: #FFFFFF;\n",
              "    }\n",
              "  </style>\n",
              "\n",
              "      <script>\n",
              "        const buttonEl =\n",
              "          document.querySelector('#df-1f79c84f-585d-4367-901a-1824e25fc0da button.colab-df-convert');\n",
              "        buttonEl.style.display =\n",
              "          google.colab.kernel.accessAllowed ? 'block' : 'none';\n",
              "\n",
              "        async function convertToInteractive(key) {\n",
              "          const element = document.querySelector('#df-1f79c84f-585d-4367-901a-1824e25fc0da');\n",
              "          const dataTable =\n",
              "            await google.colab.kernel.invokeFunction('convertToInteractive',\n",
              "                                                     [key], {});\n",
              "          if (!dataTable) return;\n",
              "\n",
              "          const docLinkHtml = 'Like what you see? Visit the ' +\n",
              "            '<a target=\"_blank\" href=https://colab.research.google.com/notebooks/data_table.ipynb>data table notebook</a>'\n",
              "            + ' to learn more about interactive tables.';\n",
              "          element.innerHTML = '';\n",
              "          dataTable['output_type'] = 'display_data';\n",
              "          await google.colab.output.renderOutput(dataTable, element);\n",
              "          const docLink = document.createElement('div');\n",
              "          docLink.innerHTML = docLinkHtml;\n",
              "          element.appendChild(docLink);\n",
              "        }\n",
              "      </script>\n",
              "    </div>\n",
              "  </div>\n",
              "  "
            ]
          },
          "metadata": {},
          "execution_count": 59
        }
      ]
    },
    {
      "cell_type": "code",
      "source": [
        "predicted_values = model_var.forecast(y=train.values[:200],steps=13)"
      ],
      "metadata": {
        "id": "28lJF-62OIf7"
      },
      "execution_count": 60,
      "outputs": []
    },
    {
      "cell_type": "code",
      "source": [
        "idx = pd.date_range(start='01-10-2021\t',periods=13,freq='MS')\n",
        "predictions = pd.DataFrame(predicted_values,index=idx,columns=['Composite_HPI_SA ','STATIC_TOTALCPICHANGE'])"
      ],
      "metadata": {
        "id": "vdIg2uCsOtp_"
      },
      "execution_count": 61,
      "outputs": []
    },
    {
      "cell_type": "markdown",
      "source": [],
      "metadata": {
        "id": "JLo6trP4JcPt"
      }
    },
    {
      "cell_type": "markdown",
      "source": [],
      "metadata": {
        "id": "p4lYiNjmJeLS"
      }
    },
    {
      "cell_type": "code",
      "source": [
        "predictions"
      ],
      "metadata": {
        "colab": {
          "base_uri": "https://localhost:8080/",
          "height": 457
        },
        "id": "F9LIKR9bQPhD",
        "outputId": "6a6ecb1d-79bf-4c74-a820-31ea3022a053"
      },
      "execution_count": 62,
      "outputs": [
        {
          "output_type": "execute_result",
          "data": {
            "text/plain": [
              "            Composite_HPI_SA   STATIC_TOTALCPICHANGE\n",
              "2021-02-01           3.454583               0.282918\n",
              "2021-03-01           3.332654               0.301949\n",
              "2021-04-01           3.424655               0.368814\n",
              "2021-05-01           3.419829               0.390104\n",
              "2021-06-01           3.159076               0.314941\n",
              "2021-07-01           2.992250               0.287090\n",
              "2021-08-01           2.914242               0.282351\n",
              "2021-09-01           2.838566               0.285674\n",
              "2021-10-01           2.726164               0.270543\n",
              "2021-11-01           2.614542               0.254497\n",
              "2021-12-01           2.525962               0.244256\n",
              "2022-01-01           2.445286               0.236519\n",
              "2022-02-01           2.362983               0.227488"
            ],
            "text/html": [
              "\n",
              "  <div id=\"df-a4452c8f-7760-4ebc-ba85-f229f66a9808\">\n",
              "    <div class=\"colab-df-container\">\n",
              "      <div>\n",
              "<style scoped>\n",
              "    .dataframe tbody tr th:only-of-type {\n",
              "        vertical-align: middle;\n",
              "    }\n",
              "\n",
              "    .dataframe tbody tr th {\n",
              "        vertical-align: top;\n",
              "    }\n",
              "\n",
              "    .dataframe thead th {\n",
              "        text-align: right;\n",
              "    }\n",
              "</style>\n",
              "<table border=\"1\" class=\"dataframe\">\n",
              "  <thead>\n",
              "    <tr style=\"text-align: right;\">\n",
              "      <th></th>\n",
              "      <th>Composite_HPI_SA</th>\n",
              "      <th>STATIC_TOTALCPICHANGE</th>\n",
              "    </tr>\n",
              "  </thead>\n",
              "  <tbody>\n",
              "    <tr>\n",
              "      <th>2021-02-01</th>\n",
              "      <td>3.454583</td>\n",
              "      <td>0.282918</td>\n",
              "    </tr>\n",
              "    <tr>\n",
              "      <th>2021-03-01</th>\n",
              "      <td>3.332654</td>\n",
              "      <td>0.301949</td>\n",
              "    </tr>\n",
              "    <tr>\n",
              "      <th>2021-04-01</th>\n",
              "      <td>3.424655</td>\n",
              "      <td>0.368814</td>\n",
              "    </tr>\n",
              "    <tr>\n",
              "      <th>2021-05-01</th>\n",
              "      <td>3.419829</td>\n",
              "      <td>0.390104</td>\n",
              "    </tr>\n",
              "    <tr>\n",
              "      <th>2021-06-01</th>\n",
              "      <td>3.159076</td>\n",
              "      <td>0.314941</td>\n",
              "    </tr>\n",
              "    <tr>\n",
              "      <th>2021-07-01</th>\n",
              "      <td>2.992250</td>\n",
              "      <td>0.287090</td>\n",
              "    </tr>\n",
              "    <tr>\n",
              "      <th>2021-08-01</th>\n",
              "      <td>2.914242</td>\n",
              "      <td>0.282351</td>\n",
              "    </tr>\n",
              "    <tr>\n",
              "      <th>2021-09-01</th>\n",
              "      <td>2.838566</td>\n",
              "      <td>0.285674</td>\n",
              "    </tr>\n",
              "    <tr>\n",
              "      <th>2021-10-01</th>\n",
              "      <td>2.726164</td>\n",
              "      <td>0.270543</td>\n",
              "    </tr>\n",
              "    <tr>\n",
              "      <th>2021-11-01</th>\n",
              "      <td>2.614542</td>\n",
              "      <td>0.254497</td>\n",
              "    </tr>\n",
              "    <tr>\n",
              "      <th>2021-12-01</th>\n",
              "      <td>2.525962</td>\n",
              "      <td>0.244256</td>\n",
              "    </tr>\n",
              "    <tr>\n",
              "      <th>2022-01-01</th>\n",
              "      <td>2.445286</td>\n",
              "      <td>0.236519</td>\n",
              "    </tr>\n",
              "    <tr>\n",
              "      <th>2022-02-01</th>\n",
              "      <td>2.362983</td>\n",
              "      <td>0.227488</td>\n",
              "    </tr>\n",
              "  </tbody>\n",
              "</table>\n",
              "</div>\n",
              "      <button class=\"colab-df-convert\" onclick=\"convertToInteractive('df-a4452c8f-7760-4ebc-ba85-f229f66a9808')\"\n",
              "              title=\"Convert this dataframe to an interactive table.\"\n",
              "              style=\"display:none;\">\n",
              "        \n",
              "  <svg xmlns=\"http://www.w3.org/2000/svg\" height=\"24px\"viewBox=\"0 0 24 24\"\n",
              "       width=\"24px\">\n",
              "    <path d=\"M0 0h24v24H0V0z\" fill=\"none\"/>\n",
              "    <path d=\"M18.56 5.44l.94 2.06.94-2.06 2.06-.94-2.06-.94-.94-2.06-.94 2.06-2.06.94zm-11 1L8.5 8.5l.94-2.06 2.06-.94-2.06-.94L8.5 2.5l-.94 2.06-2.06.94zm10 10l.94 2.06.94-2.06 2.06-.94-2.06-.94-.94-2.06-.94 2.06-2.06.94z\"/><path d=\"M17.41 7.96l-1.37-1.37c-.4-.4-.92-.59-1.43-.59-.52 0-1.04.2-1.43.59L10.3 9.45l-7.72 7.72c-.78.78-.78 2.05 0 2.83L4 21.41c.39.39.9.59 1.41.59.51 0 1.02-.2 1.41-.59l7.78-7.78 2.81-2.81c.8-.78.8-2.07 0-2.86zM5.41 20L4 18.59l7.72-7.72 1.47 1.35L5.41 20z\"/>\n",
              "  </svg>\n",
              "      </button>\n",
              "      \n",
              "  <style>\n",
              "    .colab-df-container {\n",
              "      display:flex;\n",
              "      flex-wrap:wrap;\n",
              "      gap: 12px;\n",
              "    }\n",
              "\n",
              "    .colab-df-convert {\n",
              "      background-color: #E8F0FE;\n",
              "      border: none;\n",
              "      border-radius: 50%;\n",
              "      cursor: pointer;\n",
              "      display: none;\n",
              "      fill: #1967D2;\n",
              "      height: 32px;\n",
              "      padding: 0 0 0 0;\n",
              "      width: 32px;\n",
              "    }\n",
              "\n",
              "    .colab-df-convert:hover {\n",
              "      background-color: #E2EBFA;\n",
              "      box-shadow: 0px 1px 2px rgba(60, 64, 67, 0.3), 0px 1px 3px 1px rgba(60, 64, 67, 0.15);\n",
              "      fill: #174EA6;\n",
              "    }\n",
              "\n",
              "    [theme=dark] .colab-df-convert {\n",
              "      background-color: #3B4455;\n",
              "      fill: #D2E3FC;\n",
              "    }\n",
              "\n",
              "    [theme=dark] .colab-df-convert:hover {\n",
              "      background-color: #434B5C;\n",
              "      box-shadow: 0px 1px 3px 1px rgba(0, 0, 0, 0.15);\n",
              "      filter: drop-shadow(0px 1px 2px rgba(0, 0, 0, 0.3));\n",
              "      fill: #FFFFFF;\n",
              "    }\n",
              "  </style>\n",
              "\n",
              "      <script>\n",
              "        const buttonEl =\n",
              "          document.querySelector('#df-a4452c8f-7760-4ebc-ba85-f229f66a9808 button.colab-df-convert');\n",
              "        buttonEl.style.display =\n",
              "          google.colab.kernel.accessAllowed ? 'block' : 'none';\n",
              "\n",
              "        async function convertToInteractive(key) {\n",
              "          const element = document.querySelector('#df-a4452c8f-7760-4ebc-ba85-f229f66a9808');\n",
              "          const dataTable =\n",
              "            await google.colab.kernel.invokeFunction('convertToInteractive',\n",
              "                                                     [key], {});\n",
              "          if (!dataTable) return;\n",
              "\n",
              "          const docLinkHtml = 'Like what you see? Visit the ' +\n",
              "            '<a target=\"_blank\" href=https://colab.research.google.com/notebooks/data_table.ipynb>data table notebook</a>'\n",
              "            + ' to learn more about interactive tables.';\n",
              "          element.innerHTML = '';\n",
              "          dataTable['output_type'] = 'display_data';\n",
              "          await google.colab.output.renderOutput(dataTable, element);\n",
              "          const docLink = document.createElement('div');\n",
              "          docLink.innerHTML = docLinkHtml;\n",
              "          element.appendChild(docLink);\n",
              "        }\n",
              "      </script>\n",
              "    </div>\n",
              "  </div>\n",
              "  "
            ]
          },
          "metadata": {},
          "execution_count": 62
        }
      ]
    },
    {
      "cell_type": "code",
      "source": [
        "predictions['Composite_HPI_SA_O'] = Canada_HPI['Composite_HPI_SA'][-13] + predictions['Composite_HPI_SA '].cumsum()"
      ],
      "metadata": {
        "id": "zzNEIGYuRx7s"
      },
      "execution_count": 63,
      "outputs": []
    },
    {
      "cell_type": "code",
      "source": [
        "predictions"
      ],
      "metadata": {
        "colab": {
          "base_uri": "https://localhost:8080/",
          "height": 457
        },
        "id": "OAjdkWKPTU3M",
        "outputId": "9bcbf983-4674-4fa5-9097-9871b09c6578"
      },
      "execution_count": 64,
      "outputs": [
        {
          "output_type": "execute_result",
          "data": {
            "text/plain": [
              "            Composite_HPI_SA   STATIC_TOTALCPICHANGE  Composite_HPI_SA_O\n",
              "2021-02-01           3.454583               0.282918          204.954583\n",
              "2021-03-01           3.332654               0.301949          208.287237\n",
              "2021-04-01           3.424655               0.368814          211.711891\n",
              "2021-05-01           3.419829               0.390104          215.131720\n",
              "2021-06-01           3.159076               0.314941          218.290796\n",
              "2021-07-01           2.992250               0.287090          221.283046\n",
              "2021-08-01           2.914242               0.282351          224.197289\n",
              "2021-09-01           2.838566               0.285674          227.035855\n",
              "2021-10-01           2.726164               0.270543          229.762019\n",
              "2021-11-01           2.614542               0.254497          232.376561\n",
              "2021-12-01           2.525962               0.244256          234.902523\n",
              "2022-01-01           2.445286               0.236519          237.347809\n",
              "2022-02-01           2.362983               0.227488          239.710792"
            ],
            "text/html": [
              "\n",
              "  <div id=\"df-b599eeb4-14f4-4f4b-b8ef-c756b5b61fc3\">\n",
              "    <div class=\"colab-df-container\">\n",
              "      <div>\n",
              "<style scoped>\n",
              "    .dataframe tbody tr th:only-of-type {\n",
              "        vertical-align: middle;\n",
              "    }\n",
              "\n",
              "    .dataframe tbody tr th {\n",
              "        vertical-align: top;\n",
              "    }\n",
              "\n",
              "    .dataframe thead th {\n",
              "        text-align: right;\n",
              "    }\n",
              "</style>\n",
              "<table border=\"1\" class=\"dataframe\">\n",
              "  <thead>\n",
              "    <tr style=\"text-align: right;\">\n",
              "      <th></th>\n",
              "      <th>Composite_HPI_SA</th>\n",
              "      <th>STATIC_TOTALCPICHANGE</th>\n",
              "      <th>Composite_HPI_SA_O</th>\n",
              "    </tr>\n",
              "  </thead>\n",
              "  <tbody>\n",
              "    <tr>\n",
              "      <th>2021-02-01</th>\n",
              "      <td>3.454583</td>\n",
              "      <td>0.282918</td>\n",
              "      <td>204.954583</td>\n",
              "    </tr>\n",
              "    <tr>\n",
              "      <th>2021-03-01</th>\n",
              "      <td>3.332654</td>\n",
              "      <td>0.301949</td>\n",
              "      <td>208.287237</td>\n",
              "    </tr>\n",
              "    <tr>\n",
              "      <th>2021-04-01</th>\n",
              "      <td>3.424655</td>\n",
              "      <td>0.368814</td>\n",
              "      <td>211.711891</td>\n",
              "    </tr>\n",
              "    <tr>\n",
              "      <th>2021-05-01</th>\n",
              "      <td>3.419829</td>\n",
              "      <td>0.390104</td>\n",
              "      <td>215.131720</td>\n",
              "    </tr>\n",
              "    <tr>\n",
              "      <th>2021-06-01</th>\n",
              "      <td>3.159076</td>\n",
              "      <td>0.314941</td>\n",
              "      <td>218.290796</td>\n",
              "    </tr>\n",
              "    <tr>\n",
              "      <th>2021-07-01</th>\n",
              "      <td>2.992250</td>\n",
              "      <td>0.287090</td>\n",
              "      <td>221.283046</td>\n",
              "    </tr>\n",
              "    <tr>\n",
              "      <th>2021-08-01</th>\n",
              "      <td>2.914242</td>\n",
              "      <td>0.282351</td>\n",
              "      <td>224.197289</td>\n",
              "    </tr>\n",
              "    <tr>\n",
              "      <th>2021-09-01</th>\n",
              "      <td>2.838566</td>\n",
              "      <td>0.285674</td>\n",
              "      <td>227.035855</td>\n",
              "    </tr>\n",
              "    <tr>\n",
              "      <th>2021-10-01</th>\n",
              "      <td>2.726164</td>\n",
              "      <td>0.270543</td>\n",
              "      <td>229.762019</td>\n",
              "    </tr>\n",
              "    <tr>\n",
              "      <th>2021-11-01</th>\n",
              "      <td>2.614542</td>\n",
              "      <td>0.254497</td>\n",
              "      <td>232.376561</td>\n",
              "    </tr>\n",
              "    <tr>\n",
              "      <th>2021-12-01</th>\n",
              "      <td>2.525962</td>\n",
              "      <td>0.244256</td>\n",
              "      <td>234.902523</td>\n",
              "    </tr>\n",
              "    <tr>\n",
              "      <th>2022-01-01</th>\n",
              "      <td>2.445286</td>\n",
              "      <td>0.236519</td>\n",
              "      <td>237.347809</td>\n",
              "    </tr>\n",
              "    <tr>\n",
              "      <th>2022-02-01</th>\n",
              "      <td>2.362983</td>\n",
              "      <td>0.227488</td>\n",
              "      <td>239.710792</td>\n",
              "    </tr>\n",
              "  </tbody>\n",
              "</table>\n",
              "</div>\n",
              "      <button class=\"colab-df-convert\" onclick=\"convertToInteractive('df-b599eeb4-14f4-4f4b-b8ef-c756b5b61fc3')\"\n",
              "              title=\"Convert this dataframe to an interactive table.\"\n",
              "              style=\"display:none;\">\n",
              "        \n",
              "  <svg xmlns=\"http://www.w3.org/2000/svg\" height=\"24px\"viewBox=\"0 0 24 24\"\n",
              "       width=\"24px\">\n",
              "    <path d=\"M0 0h24v24H0V0z\" fill=\"none\"/>\n",
              "    <path d=\"M18.56 5.44l.94 2.06.94-2.06 2.06-.94-2.06-.94-.94-2.06-.94 2.06-2.06.94zm-11 1L8.5 8.5l.94-2.06 2.06-.94-2.06-.94L8.5 2.5l-.94 2.06-2.06.94zm10 10l.94 2.06.94-2.06 2.06-.94-2.06-.94-.94-2.06-.94 2.06-2.06.94z\"/><path d=\"M17.41 7.96l-1.37-1.37c-.4-.4-.92-.59-1.43-.59-.52 0-1.04.2-1.43.59L10.3 9.45l-7.72 7.72c-.78.78-.78 2.05 0 2.83L4 21.41c.39.39.9.59 1.41.59.51 0 1.02-.2 1.41-.59l7.78-7.78 2.81-2.81c.8-.78.8-2.07 0-2.86zM5.41 20L4 18.59l7.72-7.72 1.47 1.35L5.41 20z\"/>\n",
              "  </svg>\n",
              "      </button>\n",
              "      \n",
              "  <style>\n",
              "    .colab-df-container {\n",
              "      display:flex;\n",
              "      flex-wrap:wrap;\n",
              "      gap: 12px;\n",
              "    }\n",
              "\n",
              "    .colab-df-convert {\n",
              "      background-color: #E8F0FE;\n",
              "      border: none;\n",
              "      border-radius: 50%;\n",
              "      cursor: pointer;\n",
              "      display: none;\n",
              "      fill: #1967D2;\n",
              "      height: 32px;\n",
              "      padding: 0 0 0 0;\n",
              "      width: 32px;\n",
              "    }\n",
              "\n",
              "    .colab-df-convert:hover {\n",
              "      background-color: #E2EBFA;\n",
              "      box-shadow: 0px 1px 2px rgba(60, 64, 67, 0.3), 0px 1px 3px 1px rgba(60, 64, 67, 0.15);\n",
              "      fill: #174EA6;\n",
              "    }\n",
              "\n",
              "    [theme=dark] .colab-df-convert {\n",
              "      background-color: #3B4455;\n",
              "      fill: #D2E3FC;\n",
              "    }\n",
              "\n",
              "    [theme=dark] .colab-df-convert:hover {\n",
              "      background-color: #434B5C;\n",
              "      box-shadow: 0px 1px 3px 1px rgba(0, 0, 0, 0.15);\n",
              "      filter: drop-shadow(0px 1px 2px rgba(0, 0, 0, 0.3));\n",
              "      fill: #FFFFFF;\n",
              "    }\n",
              "  </style>\n",
              "\n",
              "      <script>\n",
              "        const buttonEl =\n",
              "          document.querySelector('#df-b599eeb4-14f4-4f4b-b8ef-c756b5b61fc3 button.colab-df-convert');\n",
              "        buttonEl.style.display =\n",
              "          google.colab.kernel.accessAllowed ? 'block' : 'none';\n",
              "\n",
              "        async function convertToInteractive(key) {\n",
              "          const element = document.querySelector('#df-b599eeb4-14f4-4f4b-b8ef-c756b5b61fc3');\n",
              "          const dataTable =\n",
              "            await google.colab.kernel.invokeFunction('convertToInteractive',\n",
              "                                                     [key], {});\n",
              "          if (!dataTable) return;\n",
              "\n",
              "          const docLinkHtml = 'Like what you see? Visit the ' +\n",
              "            '<a target=\"_blank\" href=https://colab.research.google.com/notebooks/data_table.ipynb>data table notebook</a>'\n",
              "            + ' to learn more about interactive tables.';\n",
              "          element.innerHTML = '';\n",
              "          dataTable['output_type'] = 'display_data';\n",
              "          await google.colab.output.renderOutput(dataTable, element);\n",
              "          const docLink = document.createElement('div');\n",
              "          docLink.innerHTML = docLinkHtml;\n",
              "          element.appendChild(docLink);\n",
              "        }\n",
              "      </script>\n",
              "    </div>\n",
              "  </div>\n",
              "  "
            ]
          },
          "metadata": {},
          "execution_count": 64
        }
      ]
    },
    {
      "cell_type": "code",
      "source": [
        "test_original=Canada_HPI[201:]\n",
        "len(test_original)"
      ],
      "metadata": {
        "colab": {
          "base_uri": "https://localhost:8080/"
        },
        "id": "zQBnDb68Uvrv",
        "outputId": "c162d8fb-79ad-4b90-e02b-6a9d98f9e1b0"
      },
      "execution_count": 65,
      "outputs": [
        {
          "output_type": "execute_result",
          "data": {
            "text/plain": [
              "13"
            ]
          },
          "metadata": {},
          "execution_count": 65
        }
      ]
    },
    {
      "cell_type": "code",
      "source": [
        "predictions.index=test_original.index"
      ],
      "metadata": {
        "id": "-V8By_8_WKv2"
      },
      "execution_count": 66,
      "outputs": []
    },
    {
      "cell_type": "code",
      "source": [
        "test_original['Composite_HPI_SA']"
      ],
      "metadata": {
        "colab": {
          "base_uri": "https://localhost:8080/"
        },
        "id": "7wzK6ZbpV6ph",
        "outputId": "5e8f6ec4-e1e8-4f26-944f-2ce20cacc3c0"
      },
      "execution_count": 67,
      "outputs": [
        {
          "output_type": "execute_result",
          "data": {
            "text/plain": [
              "Date\n",
              "01-10-2021    201.5\n",
              "01-11-2021    206.8\n",
              "01-12-2021    211.3\n",
              "01-01-2022    216.5\n",
              "01-02-2022    223.5\n",
              "01-03-2022    228.5\n",
              "01-04-2022    231.5\n",
              "01-05-2022    234.3\n",
              "01-06-2022    236.5\n",
              "01-07-2022    235.8\n",
              "01-08-2022    231.7\n",
              "01-09-2022    229.7\n",
              "01-10-2022    226.5\n",
              "Name: Composite_HPI_SA, dtype: float64"
            ]
          },
          "metadata": {},
          "execution_count": 67
        }
      ]
    },
    {
      "cell_type": "code",
      "source": [
        "#RMSE value Calculation\n",
        "rmse = sqrt(mean_squared_error(test_original['Composite_HPI_SA'], predictions['Composite_HPI_SA_O']))\n",
        "print(rmse)\n",
        "print('HPI predictions RMSE based on 2 variables of VAR : %.2f' % rmse)"
      ],
      "metadata": {
        "colab": {
          "base_uri": "https://localhost:8080/"
        },
        "id": "tP9xB04JVrtc",
        "outputId": "c741d6d5-f1e8-4052-d713-8e734a40173a"
      },
      "execution_count": 71,
      "outputs": [
        {
          "output_type": "stream",
          "name": "stdout",
          "text": [
            "6.213483655152141\n",
            "HPI predictions RMSE based on 2 variables of VAR : 6.21\n"
          ]
        }
      ]
    },
    {
      "cell_type": "code",
      "source": [
        "import math  \n",
        "import sklearn.metrics \n",
        "mse = sklearn.metrics.mean_squared_error(test_original['Composite_HPI_SA'], predictions['Composite_HPI_SA_O'])  \n",
        "  \n",
        "rmse = math.sqrt(mse)\n"
      ],
      "metadata": {
        "id": "vGWDmGcPi5XM"
      },
      "execution_count": 72,
      "outputs": []
    },
    {
      "cell_type": "code",
      "source": [
        "#Normalised RMSE Value calculation\n",
        "rmse/(test_original['Composite_HPI_SA'].max()-test_original['Composite_HPI_SA'].min())"
      ],
      "metadata": {
        "colab": {
          "base_uri": "https://localhost:8080/"
        },
        "id": "nlSHuYwgwG0V",
        "outputId": "cba3e322-f7aa-415d-e6af-bd0682a2f0a6"
      },
      "execution_count": 73,
      "outputs": [
        {
          "output_type": "execute_result",
          "data": {
            "text/plain": [
              "0.1775281044329183"
            ]
          },
          "metadata": {},
          "execution_count": 73
        }
      ]
    }
  ]
}